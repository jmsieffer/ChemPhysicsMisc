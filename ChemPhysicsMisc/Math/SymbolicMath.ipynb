{
 "cells": [
  {
   "cell_type": "code",
   "execution_count": 51,
   "source": [
    "import sympy as smp\n",
    "from sympy import *\n",
    "from sympy import diff, exp, sin, Derivative, I\n",
    "import numpy as np\n",
    "import matplotlib\n",
    "import matplotlib.pyplot as plt\n",
    "import scipy as sc"
   ],
   "outputs": [],
   "metadata": {}
  },
  {
   "cell_type": "code",
   "execution_count": 6,
   "source": [
    "a, b, c, cstar = symbols('a b c cstar')\n",
    "SimpleMatrix = smp.Matrix([[a, c],[cstar, b]])\n",
    "EVs = SimpleMatrix.eigenvals()\n",
    "EVecs = SimpleMatrix.eigenvects()\n",
    "EVecs[1][0]"
   ],
   "outputs": [
    {
     "output_type": "execute_result",
     "data": {
      "text/latex": [
       "$\\displaystyle \\frac{a}{2} + \\frac{b}{2} + \\frac{\\sqrt{a^{2} - 2 a b + b^{2} + 4 c cstar}}{2}$"
      ],
      "text/plain": [
       "a/2 + b/2 + sqrt(a**2 - 2*a*b + b**2 + 4*c*cstar)/2"
      ]
     },
     "metadata": {},
     "execution_count": 6
    }
   ],
   "metadata": {}
  },
  {
   "cell_type": "code",
   "execution_count": 22,
   "source": [
    "Func = cos(a)**2 + (sin(a)**4/4)\n",
    "DFunc = diff(Func, a)\n",
    "FuncSSolve = solve(DFunc, a)\n",
    "DFunc"
   ],
   "outputs": [
    {
     "output_type": "execute_result",
     "data": {
      "text/latex": [
       "$\\displaystyle \\sin^{3}{\\left(a \\right)} \\cos{\\left(a \\right)} - 2 \\sin{\\left(a \\right)} \\cos{\\left(a \\right)}$"
      ],
      "text/plain": [
       "sin(a)**3*cos(a) - 2*sin(a)*cos(a)"
      ]
     },
     "metadata": {},
     "execution_count": 22
    }
   ],
   "metadata": {}
  },
  {
   "cell_type": "code",
   "execution_count": 23,
   "source": [
    "r = np.radians(45)\n",
    "Func = np.sin(r)**3*np.cos(r) - 2*np.sin(r)*np.cos(r)\n",
    "Func"
   ],
   "outputs": [
    {
     "output_type": "execute_result",
     "data": {
      "text/plain": [
       "-0.75"
      ]
     },
     "metadata": {},
     "execution_count": 23
    }
   ],
   "metadata": {}
  },
  {
   "cell_type": "code",
   "execution_count": 39,
   "source": [
    "np.arcsin(np.sin(np.radians(45)))"
   ],
   "outputs": [
    {
     "output_type": "execute_result",
     "data": {
      "text/plain": [
       "0.7853981633974482"
      ]
     },
     "metadata": {},
     "execution_count": 39
    }
   ],
   "metadata": {}
  },
  {
   "cell_type": "code",
   "execution_count": 40,
   "source": [
    "1/np.sqrt(2)"
   ],
   "outputs": [
    {
     "output_type": "execute_result",
     "data": {
      "text/plain": [
       "0.7071067811865475"
      ]
     },
     "metadata": {},
     "execution_count": 40
    }
   ],
   "metadata": {}
  },
  {
   "cell_type": "code",
   "execution_count": 8,
   "source": [
    "F2 = (cos(b/2))**2 * (cos(b/2))**2\n",
    "F2"
   ],
   "outputs": [
    {
     "output_type": "execute_result",
     "data": {
      "text/latex": [
       "$\\displaystyle \\cos^{4}{\\left(\\frac{b}{2} \\right)}$"
      ],
      "text/plain": [
       "cos(b/2)**4"
      ]
     },
     "metadata": {},
     "execution_count": 8
    }
   ],
   "metadata": {}
  },
  {
   "cell_type": "code",
   "execution_count": 9,
   "source": [
    "F3 = (-sin(b/2))**2 * (-sin(b/2))**2\n",
    "F3"
   ],
   "outputs": [
    {
     "output_type": "execute_result",
     "data": {
      "text/latex": [
       "$\\displaystyle \\sin^{4}{\\left(\\frac{b}{2} \\right)}$"
      ],
      "text/plain": [
       "sin(b/2)**4"
      ]
     },
     "metadata": {},
     "execution_count": 9
    }
   ],
   "metadata": {}
  },
  {
   "cell_type": "code",
   "execution_count": 41,
   "source": [
    "FuncTrial = cos(a)*sin(a)*(-2+(sin(a)**2))\n",
    "Funcsolve = solve(FuncTrial, a)\n",
    "Funcsolve"
   ],
   "outputs": [
    {
     "output_type": "execute_result",
     "data": {
      "text/plain": [
       "[0,\n",
       " pi/2,\n",
       " pi,\n",
       " 3*pi/2,\n",
       " pi - asin(sqrt(2)),\n",
       " pi + asin(sqrt(2)),\n",
       " -asin(sqrt(2)),\n",
       " asin(sqrt(2))]"
      ]
     },
     "metadata": {},
     "execution_count": 41
    }
   ],
   "metadata": {}
  },
  {
   "cell_type": "code",
   "execution_count": 61,
   "source": [
    "hbar = 1.0545718E-34\n",
    "x = hbar**2/4\n",
    "y = hbar**4*(9/16)\n",
    "print(x,y)"
   ],
   "outputs": [
    {
     "output_type": "stream",
     "name": "stdout",
     "text": [
      "2.7803042033881e-69 6.9570823170397845e-137\n"
     ]
    }
   ],
   "metadata": {}
  },
  {
   "cell_type": "code",
   "execution_count": 85,
   "source": [
    "#Graph for HW2 Chem 556\n",
    "theta = np.linspace(0,360,1000)\n",
    "I3 = np.cos(np.radians(theta)/2)**4\n",
    "plt.plot(theta,I3, color = 'black')\n",
    "\n",
    "matplotlib.rcParams['font.serif'] = \"Palatino\"\n",
    "matplotlib.rcParams['font.family'] = \"serif\"\n",
    "\n",
    "plt.ylabel('Intensity (A.U.', fontsize = '12')\n",
    "plt.xlabel(r'$\\theta (\\degree)$', fontsize = '12')\n",
    "\n",
    "plt.xlim(0,max(theta))\n",
    "plt.savefig('CHM556HW2P3A.png', dpi=1200)"
   ],
   "outputs": [
    {
     "output_type": "display_data",
     "data": {
      "image/png": "[encoded data removed]",
      "text/plain": [
       "<Figure size 432x288 with 1 Axes>"
      ]
     },
     "metadata": {
      "needs_background": "light"
     }
    }
   ],
   "metadata": {}
  },
  {
   "cell_type": "code",
   "execution_count": 84,
   "source": [
    "theta = np.linspace(0,360,1000)\n",
    "I4 =  np.cos(np.radians(theta)/2)**4 + np.sin(np.radians(theta)/2)**4\n",
    "plt.plot(theta,I4, color = 'black')\n",
    "\n",
    "matplotlib.rcParams['font.serif'] = \"Palatino\"\n",
    "matplotlib.rcParams['font.family'] = \"serif\"\n",
    "\n",
    "plt.ylabel('Intensity (A.U.', fontsize = '12')\n",
    "plt.xlabel(r'$\\theta (\\degree)$', fontsize = '12')\n",
    "\n",
    "plt.xlim(0,max(theta))\n",
    "plt.savefig('CHM556HW2P3A.png', dpi=1200)"
   ],
   "outputs": [
    {
     "output_type": "display_data",
     "data": {
      "image/png": "[encoded data removed]",
      "text/plain": [
       "<Figure size 432x288 with 1 Axes>"
      ]
     },
     "metadata": {
      "needs_background": "light"
     }
    }
   ],
   "metadata": {}
  },
  {
   "cell_type": "code",
   "execution_count": null,
   "source": [],
   "outputs": [],
   "metadata": {}
  }
 ],
 "metadata": {
  "orig_nbformat": 4,
  "language_info": {
   "name": "python",
   "version": "3.7.9",
   "mimetype": "text/x-python",
   "codemirror_mode": {
    "name": "ipython",
    "version": 3
   },
   "pygments_lexer": "ipython3",
   "nbconvert_exporter": "python",
   "file_extension": ".py"
  },
  "kernelspec": {
   "name": "python3",
   "display_name": "Python 3.7.9 64-bit ('compchem': conda)"
  },
  "interpreter": {
   "hash": "7eb5ae97173851c9c43c9dc4b9280fe96a3488a82d8170afdaadfc87386f3943"
  }
 },
 "nbformat": 4,
 "nbformat_minor": 2
}