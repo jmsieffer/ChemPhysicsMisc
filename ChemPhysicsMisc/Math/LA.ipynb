{
 "metadata": {
  "language_info": {
   "codemirror_mode": {
    "name": "ipython",
    "version": 3
   },
   "file_extension": ".py",
   "mimetype": "text/x-python",
   "name": "python",
   "nbconvert_exporter": "python",
   "pygments_lexer": "ipython3",
   "version": "3.7.9-final"
  },
  "orig_nbformat": 2,
  "kernelspec": {
   "name": "python3",
   "display_name": "Python 3",
   "language": "python"
  }
 },
 "nbformat": 4,
 "nbformat_minor": 2,
 "cells": [
  {
   "cell_type": "code",
   "execution_count": 1,
   "source": [
    "import numpy as np\n",
    "import scipy as sp\n",
    "import matplotlib.pyplot as plt "
   ],
   "outputs": [],
   "metadata": {}
  },
  {
   "cell_type": "code",
   "execution_count": 2,
   "source": [
    "A = np.array([[1, 1, 0], [1, 2, 2], [0, 2, -1]])\n",
    "B = np.array([[1, -1, 1], [-1, 0, 0], [1, 0, 1]])\n",
    "AB = A.dot(B)\n",
    "BA = B.dot(A)\n",
    "ComAB = np.subtract(AB, BA)\n",
    "ComAB"
   ],
   "outputs": [
    {
     "output_type": "execute_result",
     "data": {
      "text/plain": [
       "array([[ 0, -2,  4],\n",
       "       [ 2,  0,  3],\n",
       "       [-4, -3,  0]])"
      ]
     },
     "metadata": {},
     "execution_count": 2
    }
   ],
   "metadata": {}
  },
  {
   "cell_type": "code",
   "execution_count": 23,
   "source": [
    "X = np.array([[1, 2], [3, 4]])\n",
    "keta = np.array([[1],[2]])\n",
    "braa = np.transpose(keta)\n",
    "brab = np.array([1, 2, 3])\n",
    "ketb = np.array([[4],[5],[6]])\n",
    "inner = brab.dot(ketb)\n",
    "outer = np.outer(ketb,brab)\n",
    "inner"
   ],
   "outputs": [
    {
     "output_type": "execute_result",
     "data": {
      "text/plain": [
       "array([32])"
      ]
     },
     "metadata": {},
     "execution_count": 23
    }
   ],
   "metadata": {}
  },
  {
   "cell_type": "code",
   "execution_count": 29,
   "source": [
    "Z = np.array([[1, 2, 3], [3, 4, 5], [5, 6, 7]])\n",
    "Y = np.array([[5, 6, 7], [3, 4, 5], [1, 2, 3]])\n",
    "Z.dot(Y)"
   ],
   "outputs": [
    {
     "output_type": "execute_result",
     "data": {
      "text/plain": [
       "array([[14, 20, 26],\n",
       "       [32, 44, 56],\n",
       "       [50, 68, 86]])"
      ]
     },
     "metadata": {},
     "execution_count": 29
    }
   ],
   "metadata": {}
  },
  {
   "cell_type": "code",
   "execution_count": 28,
   "source": [
    "Y.dot(Z)"
   ],
   "outputs": [
    {
     "output_type": "execute_result",
     "data": {
      "text/plain": [
       "array([[58, 76, 94],\n",
       "       [40, 52, 64],\n",
       "       [22, 28, 34]])"
      ]
     },
     "metadata": {},
     "execution_count": 28
    }
   ],
   "metadata": {}
  },
  {
   "cell_type": "code",
   "execution_count": null,
   "source": [],
   "outputs": [],
   "metadata": {}
  }
 ]
}