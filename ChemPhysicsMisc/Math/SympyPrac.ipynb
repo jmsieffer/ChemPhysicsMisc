{
 "cells": [
  {
   "cell_type": "code",
   "execution_count": 7,
   "metadata": {},
   "outputs": [],
   "source": [
    "import sympy as smp\n",
    "from sympy import *\n",
    "from sympy import diff, exp, sin, Derivative, I\n"
   ]
  },
  {
   "cell_type": "code",
   "execution_count": 17,
   "metadata": {},
   "outputs": [
    {
     "data": {
      "text/latex": [
       "$\\displaystyle x + x_{0} + z^{2}$"
      ],
      "text/plain": [
       "x + x_0 + z**2"
      ]
     },
     "execution_count": 17,
     "metadata": {},
     "output_type": "execute_result"
    }
   ],
   "source": [
    "x,y,z, x0, xi, psi, sigma, k, h, w, g, t, w0 = symbols('x y z x_0 xi psi sigma k h w g t w0')\n",
    "MyFun = x+z**2 + x0\n",
    "MyFun"
   ]
  },
  {
   "cell_type": "code",
   "execution_count": 3,
   "metadata": {},
   "outputs": [
    {
     "data": {
      "text/latex": [
       "$\\displaystyle 2 z$"
      ],
      "text/plain": [
       "2*z"
      ]
     },
     "execution_count": 3,
     "metadata": {},
     "output_type": "execute_result"
    }
   ],
   "source": [
    "MyFuncDiff = smp.diff(MyFun, z)\n",
    "#MyFuncDiff = MyFun.doit\n",
    "MyFuncDiff"
   ]
  },
  {
   "cell_type": "code",
   "execution_count": 4,
   "metadata": {},
   "outputs": [
    {
     "data": {
      "text/latex": [
       "$\\displaystyle \\frac{\\sqrt{2 x + z} \\sin{\\left(x^{2} \\right)}}{x^{0.25}}$"
      ],
      "text/plain": [
       "x**(-0.25)*sqrt(2*x + z)*sin(x**2)"
      ]
     },
     "execution_count": 4,
     "metadata": {},
     "output_type": "execute_result"
    }
   ],
   "source": [
    "sinfun = (sin(x**2) * smp.sqrt(2*x+z))/x**(1/4)\n",
    "sinfun"
   ]
  },
  {
   "cell_type": "code",
   "execution_count": 5,
   "metadata": {},
   "outputs": [
    {
     "data": {
      "text/latex": [
       "$\\displaystyle - \\frac{0.25 \\sqrt{2 x + z} \\sin{\\left(x^{2} \\right)}}{x^{1.25}} + \\frac{\\sin{\\left(x^{2} \\right)}}{x^{0.25} \\sqrt{2 x + z}} + 2 x^{0.75} \\sqrt{2 x + z} \\cos{\\left(x^{2} \\right)}$"
      ],
      "text/plain": [
       "-0.25*x**(-1.25)*sqrt(2*x + z)*sin(x**2) + x**(-0.25)*sin(x**2)/sqrt(2*x + z) + 2*x**0.75*sqrt(2*x + z)*cos(x**2)"
      ]
     },
     "execution_count": 5,
     "metadata": {},
     "output_type": "execute_result"
    }
   ],
   "source": [
    "diffsf = diff(sinfun, x)\n",
    "diffsf"
   ]
  },
  {
   "cell_type": "code",
   "execution_count": 6,
   "metadata": {},
   "outputs": [
    {
     "data": {
      "text/latex": [
       "$\\displaystyle \\frac{\\sqrt{2} e^{i k x} e^{- \\left(x - x_{0}\\right)^{2}}}{4 \\sigma^{2}}$"
      ],
      "text/plain": [
       "sqrt(2)*exp(I*k*x)*exp(-(x - x_0)**2)/(4*sigma**2)"
      ]
     },
     "execution_count": 6,
     "metadata": {},
     "output_type": "execute_result"
    }
   ],
   "source": [
    "psi = (1/smp.sqrt(2)) * exp((-(x-x0)**2))/(2*sigma**2)*exp(I*k*x)\n",
    "psi"
   ]
  },
  {
   "cell_type": "code",
   "execution_count": 25,
   "metadata": {},
   "outputs": [
    {
     "data": {
      "text/latex": [
       "$\\displaystyle - \\frac{g^{2} \\left(e^{i t \\left(w - w_{0}\\right)} - 1\\right)^{2} e^{- 2 i t \\left(w - w_{0}\\right)}}{h^{2} \\left(w - w_{0}\\right)^{2}}$"
      ],
      "text/plain": [
       "-g**2*(exp(I*t*(w - w0)) - 1)**2*exp(-2*I*t*(w - w0))/(h**2*(w - w0)**2)"
      ]
     },
     "execution_count": 25,
     "metadata": {},
     "output_type": "execute_result"
    }
   ],
   "source": [
    "CTDPT = (-I*g/h)*exp(-I*w*t)\n",
    "Coefficient =(-I*g/h)*((exp(-I*(w-w0)*t)-1)/(w-w0))\n",
    "smp.simplify(Coefficient**2)"
   ]
  },
  {
   "cell_type": "code",
   "execution_count": 47,
   "metadata": {},
   "outputs": [
    {
     "data": {
      "text/latex": [
       "$\\displaystyle \\frac{25.0 \\sqrt{2} e^{0.2 i}}{e}$"
      ],
      "text/plain": [
       "25.0*sqrt(2)*exp(-1)*exp(0.2*I)"
      ]
     },
     "execution_count": 47,
     "metadata": {},
     "output_type": "execute_result"
    }
   ],
   "source": [
    "psis = psi.subs({k:0.1 , x:2, x0:3, sigma:0.1})\n",
    "psis"
   ]
  }
 ],
 "metadata": {
  "interpreter": {
   "hash": "9e69f11e6340de14490353cf75d7c7a4646702725290036326c08370b0bcfe2f"
  },
  "kernelspec": {
   "display_name": "Python 3.7.9 64-bit ('compchem': conda)",
   "name": "python3"
  },
  "language_info": {
   "codemirror_mode": {
    "name": "ipython",
    "version": 3
   },
   "file_extension": ".py",
   "mimetype": "text/x-python",
   "name": "python",
   "nbconvert_exporter": "python",
   "pygments_lexer": "ipython3",
   "version": "3.7.9"
  },
  "orig_nbformat": 2
 },
 "nbformat": 4,
 "nbformat_minor": 2
}
