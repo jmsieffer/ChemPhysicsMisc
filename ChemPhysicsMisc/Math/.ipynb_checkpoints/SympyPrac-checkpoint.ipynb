{
 "metadata": {
  "language_info": {
   "codemirror_mode": {
    "name": "ipython",
    "version": 3
   },
   "file_extension": ".py",
   "mimetype": "text/x-python",
   "name": "python",
   "nbconvert_exporter": "python",
   "pygments_lexer": "ipython3",
   "version": "3.7.9"
  },
  "orig_nbformat": 2,
  "kernelspec": {
   "name": "python379jvsc74a57bd07eb5ae97173851c9c43c9dc4b9280fe96a3488a82d8170afdaadfc87386f3943",
   "display_name": "Python 3.7.9 64-bit ('compchem': conda)"
  }
 },
 "nbformat": 4,
 "nbformat_minor": 2,
 "cells": [
  {
   "cell_type": "code",
   "execution_count": 1,
   "metadata": {},
   "outputs": [],
   "source": [
    "import sympy as smp\n",
    "from sympy import *\n",
    "from sympy import diff, exp, sin, Derivative, I\n"
   ]
  },
  {
   "cell_type": "code",
   "execution_count": 2,
   "metadata": {},
   "outputs": [
    {
     "output_type": "execute_result",
     "data": {
      "text/plain": [
       "x + x_0 + z**2"
      ],
      "text/latex": "$\\displaystyle x + x_{0} + z^{2}$"
     },
     "metadata": {},
     "execution_count": 2
    }
   ],
   "source": [
    "x,y,z, x0, xi, psi, sigma, k = symbols('x y z x_0 xi psi sigma k ')\n",
    "MyFun = x+z**2 + x0\n",
    "MyFun"
   ]
  },
  {
   "cell_type": "code",
   "execution_count": 3,
   "metadata": {},
   "outputs": [
    {
     "output_type": "execute_result",
     "data": {
      "text/plain": [
       "2*z"
      ],
      "text/latex": "$\\displaystyle 2 z$"
     },
     "metadata": {},
     "execution_count": 3
    }
   ],
   "source": [
    "MyFuncDiff = smp.diff(MyFun, z)\n",
    "#MyFuncDiff = MyFun.doit\n",
    "MyFuncDiff"
   ]
  },
  {
   "cell_type": "code",
   "execution_count": 4,
   "metadata": {},
   "outputs": [
    {
     "output_type": "execute_result",
     "data": {
      "text/plain": [
       "x**(-0.25)*sqrt(2*x + z)*sin(x**2)"
      ],
      "text/latex": "$\\displaystyle \\frac{\\sqrt{2 x + z} \\sin{\\left(x^{2} \\right)}}{x^{0.25}}$"
     },
     "metadata": {},
     "execution_count": 4
    }
   ],
   "source": [
    "sinfun = (sin(x**2) * smp.sqrt(2*x+z))/x**(1/4)\n",
    "sinfun"
   ]
  },
  {
   "cell_type": "code",
   "execution_count": 5,
   "metadata": {},
   "outputs": [
    {
     "output_type": "execute_result",
     "data": {
      "text/plain": [
       "-0.25*x**(-1.25)*sqrt(2*x + z)*sin(x**2) + x**(-0.25)*sin(x**2)/sqrt(2*x + z) + 2*x**0.75*sqrt(2*x + z)*cos(x**2)"
      ],
      "text/latex": "$\\displaystyle - \\frac{0.25 \\sqrt{2 x + z} \\sin{\\left(x^{2} \\right)}}{x^{1.25}} + \\frac{\\sin{\\left(x^{2} \\right)}}{x^{0.25} \\sqrt{2 x + z}} + 2 x^{0.75} \\sqrt{2 x + z} \\cos{\\left(x^{2} \\right)}$"
     },
     "metadata": {},
     "execution_count": 5
    }
   ],
   "source": [
    "diffsf = diff(sinfun, x)\n",
    "diffsf"
   ]
  },
  {
   "cell_type": "code",
   "execution_count": 6,
   "metadata": {},
   "outputs": [
    {
     "output_type": "execute_result",
     "data": {
      "text/plain": [
       "sqrt(2)*exp(I*k*x)*exp(-(x - x_0)**2)/(4*sigma**2)"
      ],
      "text/latex": "$\\displaystyle \\frac{\\sqrt{2} e^{i k x} e^{- \\left(x - x_{0}\\right)^{2}}}{4 \\sigma^{2}}$"
     },
     "metadata": {},
     "execution_count": 6
    }
   ],
   "source": [
    "psi = (1/smp.sqrt(2)) * exp((-(x-x0)**2))/(2*sigma**2)*exp(I*k*x)\n",
    "psi"
   ]
  },
  {
   "cell_type": "code",
   "execution_count": 47,
   "metadata": {},
   "outputs": [
    {
     "output_type": "execute_result",
     "data": {
      "text/plain": [
       "25.0*sqrt(2)*exp(-1)*exp(0.2*I)"
      ],
      "text/latex": "$\\displaystyle \\frac{25.0 \\sqrt{2} e^{0.2 i}}{e}$"
     },
     "metadata": {},
     "execution_count": 47
    }
   ],
   "source": [
    "psis = psi.subs({k:0.1 , x:2, x0:3, sigma:0.1})\n",
    "psis"
   ]
  }
 ]
}