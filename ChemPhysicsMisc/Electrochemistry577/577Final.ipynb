{
 "cells": [
  {
   "cell_type": "code",
   "execution_count": 1,
   "metadata": {},
   "outputs": [],
   "source": [
    "import numpy as np \n",
    "import matplotlib.pyplot as plt"
   ]
  },
  {
   "cell_type": "code",
   "execution_count": 17,
   "metadata": {},
   "outputs": [],
   "source": [
    "# Constants\n",
    "T = 298 # Temperature [K]\n",
    "F = 96485 # Faraday’s constant [C/mol]\n",
    "R = 8.3145 # Gas constant [(C*V)/(mol*K)]\n",
    "f = F/(R*T) # Reduced electrochemical parameter\n",
    "C = 1.0 #  initial concentration of Ox [M]\n",
    "D = 1E-6 # Diffusion coefficient [cm^2/s] {default: 1E-6}\n",
    "v = 1E-3 # Scan rate [V/s] {default: 1E-3}\n",
    "n = 1.0  # Number of electrons transferred during reaction {default: 1}\n",
    "alpha = 0.5  # Transfer coefficient (unitless) {default: 0.5}\n",
    "k0 = 1E-1 # Heterogeneous rate constant [m/s] {default: 1E-1}\n",
    "kc = 1E-3 # Chemical rate constant [m/s] {default: 1E-3}\n",
    "\n",
    "# Simulation Paramterers \n",
    "L = 500 # Number of time steps {default: 500}\n",
    "DM = 0.45 # Model diffusion coefficient from problem. Default = 0.45\n",
    "eta0 = 0.2 # Initial overpotential (relative to redox) [V] {default: 0.2}\n",
    "etaF = -0.2 # Final overpotential (relative to redox) [V] {default: -0.2}\n",
    "\n",
    "# Time paramaters \n",
    "k = np.array(list(range(0,L))) # time index vector\n",
    "total_t  = 2*(eta0-etaF)/v # Maximum t value to simulate (1 CV)\n",
    "del_t  = total_t/L # Time interval\n",
    "t = del_t * k # Discretized t\n",
    "ktk = kc*total_t   # Dimensionless kinetic parameter \n",
    "km = ktk/L # Normalized Dimensionless Kinetic parameter )\n",
    "Lambda = k0/(D*f*v)**(0.5)  # Dimensionless Reversibility Parameter\n",
    "\n",
    "# Mesh Point Parameters\n",
    "del_x  = np.sqrt(D*del_t/DM) # x interval\n",
    "npts_x = 100  # Number of mesh points {default: 100}"
   ]
  },
  {
   "cell_type": "code",
   "execution_count": 52,
   "metadata": {},
   "outputs": [],
   "source": [
    "# PRE-INITIALIZATION \n",
    "C = C / 1000 # Convert C from mol/L to mol/cm3\n",
    "eta1 = list(eta0 - v * t) # overpotential vector, negative scan\n",
    "eta2 = list(etaF + v * t) # overpotential vector, positive scan\n",
    "eta = np.asarray(eta1 + eta2) # Overpotential scane [V] \n",
    "\n",
    "Enorm = eta * f # normalized overpotential\n",
    "kf = k0 *np.exp(-alpha * n * Enorm) # [=] cm/s, fwd rate constant (pg 799)\n",
    "kb = k0 *np.exp((1-alpha) * n * Enorm) # [=] cm/s, rev rate constant (pg 799)\n",
    "\n",
    "O = C*np.ones((L+1,npts_x)) # [=] mol/cm^3, concentration of O\n",
    "R = np.zeros((L+1,npts_x))  # [=] mol/cm^3, concentration of R\n",
    "Flux = np.zeros((1,L+1)) # [=] mol/cm^2-s, flux of O at the surface\n",
    "Z = np.ones((1,L+1))"
   ]
  },
  {
   "cell_type": "code",
   "execution_count": 56,
   "metadata": {},
   "outputs": [],
   "source": [
    "# START SIMULATION \n",
    "# j = time index. i = distance index\n",
    "for j in range (1,L):\n",
    "    # Update bulk concentrations of O and R\n",
    "    for i in range(1,npts_x-1):\n",
    "        O[j+1,i] = O[j,i] + DM*(O[j,i+1]+O[j,i-1]-2*O[j,i])\n",
    "        R[j+1,i] = R[j,i] + DM*(R[j,i+1]+R[j,i-1]-2*R[j,i]) - km * R[j,i]\n",
    "\n",
    "    if j == L:\n",
    "        Flux[j] = Flux[j-1]\n",
    "    else:\n",
    "        # Update flux\n",
    "        Flux[0,j+1] = (kf[j+1] * O[j+1,1] - kb[j+1] * R[j+1,1]) / (1 + del_x/D*(kf[j+1] + kb[j+1]))\n",
    "    # Update surface concentrations\n",
    "    O[j+1,0] = O[j+1,2] - Flux[0,j+1]*(del_x/D)\n",
    "    R[j+1,0] = R[j+1,2] + Flux[0,j+1]*(del_x/D) - km*R[j+1,1]\n",
    "\n",
    "# Calculate current density, Z, from flux of O\n",
    "Z = -n *F * Flux * 1000 # [=] A/cm^2 -> mA/cm^2, current density\n"
   ]
  },
  {
   "cell_type": "code",
   "execution_count": 59,
   "metadata": {},
   "outputs": [
    {
     "data": {
      "text/plain": [
       "[<matplotlib.lines.Line2D at 0x7fbff0ad92e0>]"
      ]
     },
     "execution_count": 59,
     "metadata": {},
     "output_type": "execute_result"
    },
    {
     "data": {
      "image/png": "[encoded data removed]",
      "text/plain": [
       "<Figure size 432x288 with 1 Axes>"
      ]
     },
     "metadata": {
      "needs_background": "light"
     },
     "output_type": "display_data"
    }
   ],
   "source": [
    "tlist = np.asarray(t)\n",
    "Zlist = Z.flatten()\n",
    "Znew = Zlist[0:-1]\n",
    "plt.plot(t,Znew)"
   ]
  },
  {
   "cell_type": "code",
   "execution_count": null,
   "metadata": {},
   "outputs": [],
   "source": []
  }
 ],
 "metadata": {
  "interpreter": {
   "hash": "dc4e3dfb5444d97d3614e5c6298b7a540bbd8b430e01fcc0b16d1666c95f4e6a"
  },
  "kernelspec": {
   "display_name": "Python 3.9.7 ('emlab')",
   "language": "python",
   "name": "python3"
  },
  "language_info": {
   "name": "python",
   "version": "3.9.7"
  },
  "orig_nbformat": 4
 },
 "nbformat": 4,
 "nbformat_minor": 2
}
