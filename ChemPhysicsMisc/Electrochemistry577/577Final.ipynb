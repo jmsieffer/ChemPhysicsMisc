{
 "cells": [
  {
   "cell_type": "code",
   "execution_count": 237,
   "metadata": {},
   "outputs": [],
   "source": [
    "import numpy as np \n",
    "import matplotlib.pyplot as plt"
   ]
  },
  {
   "cell_type": "code",
   "execution_count": 238,
   "metadata": {},
   "outputs": [
    {
     "data": {
      "text/plain": [
       "0.019916074975612735"
      ]
     },
     "execution_count": 238,
     "metadata": {},
     "output_type": "execute_result"
    }
   ],
   "source": [
    "#Simulation inputs\n",
    "\n",
    "# Constants\n",
    "T = 298 # Temperature [K]\n",
    "F = 96485 # Faraday’s constant [C/mol]\n",
    "R = 8.3145 # Gas constant [(C*V)/(mol*K)]\n",
    "f = F/(R*T) # Reduced electrochemical parameter\n",
    "Cox = 1.0 #  initial concentration of Ox [M]\n",
    "D = 1E-6 # Diffusion coefficient [cm^2/s] {default: 1E-6}\n",
    "v = 80*1E-3 # Scan rate [V/s] {default: 1E-3}\n",
    "n = 1.0  # Number of electrons transferred during reaction {default: 1}\n",
    "alpha = 0.5  # Transfer coefficient (unitless) {default: 0.5}\n",
    "k0 = .5*1E-3 # Heterogeneous rate constant [m/s] {default: 1E-1}\n",
    "kc = 1E-3 # Chemical rate constant [m/s] {default: 1E-3}\n",
    "\n",
    "# Simulation Paramterers \n",
    "L = 500 # Number of time steps {default: 500}\n",
    "DM = 0.45 # Model diffusion coefficient from problem. Default = 0.45\n",
    "eta0 = 0.8 # Initial overpotential (relative to redox) [V] {default: 0.2}\n",
    "etaF = -0.8 # Final overpotential (relative to redox) [V] {default: -0.2}\n",
    "\n",
    "# Time paramaters \n",
    "ti = np.array(list(range(0,L))) # time index vector\n",
    "total_t  = 2*(eta0-etaF)/v # Maximum t value to simulate (1 CV)\n",
    "del_t  = total_t/L # Time interval\n",
    "t = del_t * ti # Discretized t\n",
    "tset1 = t[0:250]\n",
    "tset2 = t[250:]\n",
    "\n",
    "# Kinetic parameters\n",
    "ktk = kc*total_t   # Dimensionless kinetic parameter \n",
    "km = ktk/L # Normalized Dimensionless Kinetic parameter\n",
    "Lambda = k0/(D*f*v)**(0.5)  # Dimensionless Reversibility Parameter\n",
    "psi = 20 # Dimensionless Reversibility Parameter\n",
    "k0 = psi * np.sqrt((D*f*v)/np.pi) # Heterogeneous rate constant [m/s] {default: dependent on psi parameter}\n",
    "\n",
    "# Mesh Point Parameters\n",
    "del_x  = np.sqrt(D*del_t/DM) # x interval\n",
    "npts_x = 100  # Number of mesh points {default: 100}\n",
    "k0"
   ]
  },
  {
   "cell_type": "code",
   "execution_count": 239,
   "metadata": {},
   "outputs": [],
   "source": [
    "# Initial Setup and Time Step\n",
    "Cox= Cox / 1000 # Convert C from mol/L to mol/cm3\n",
    "eta1 = list(eta0 - v * tset1) # overpotential vector, negative scan\n",
    "# eta2 = list(etaF + v * tset2) # overpotential vector, positive scan\n",
    "eta2 = list(reversed(eta1))\n",
    "eta = np.asarray(eta1 + eta2) # Overpotential scan values [V] \n",
    "\n",
    "Enorm = eta * f # normalized overpotential\n",
    "kf = k0 *np.exp(-alpha * n * Enorm) # [=] cm/s, fwd rate constant (pg 799)\n",
    "kb = k0 *np.exp((1-alpha) * n * Enorm) # [=] cm/s, rev rate constant (pg 799)\n",
    "\n",
    "Cox_x = Cox*np.ones((L+1,npts_x)) # [=] mol/cm^3, concentration of Cox_x\n",
    "Cred_x = np.zeros((L+1,npts_x))  # [=] mol/cm^3, concentration of Cred_x\n",
    "Flux = np.zeros((1,L+1)) # [=] mol/cm^2-s, flux of Cox_x at the surface\n",
    "Z = np.ones((1,L+1))"
   ]
  },
  {
   "cell_type": "code",
   "execution_count": 240,
   "metadata": {},
   "outputs": [
    {
     "data": {
      "text/plain": [
       "0.10240000000000005"
      ]
     },
     "execution_count": 240,
     "metadata": {},
     "output_type": "execute_result"
    }
   ],
   "source": [
    "# Run Simulation\n",
    "# j = time index. i = distance index\n",
    "for j in range (1,L-1):\n",
    "    # Update bulk concentrations of Cox_x and Cred_x\n",
    "    for i in range(1,npts_x-1):\n",
    "        Cox_x[j+1,i] = Cox_x[j,i] + DM*(Cox_x[j,i+1]+Cox_x[j,i-1]-2*Cox_x[j,i])\n",
    "        Cred_x[j+1,i] = Cred_x[j,i] + DM*(Cred_x[j,i+1]+Cred_x[j,i-1]-2*Cred_x[j,i]) - km * Cred_x[j,i]\n",
    "\n",
    "    if j == L:\n",
    "        Flux[j] = Flux[j-1]\n",
    "    else:\n",
    "        # Update flux\n",
    "        Flux[0,j+1] = (kf[j+1] * Cox_x[j+1,1] - kb[j+1] * Cred_x[j+1,1]) / (1 + del_x/D*(kf[j+1] + kb[j+1]))\n",
    "    # Update surface concentrations\n",
    "    Cox_x[j+1,0] = Cox_x[j+1,2] - Flux[0,j+1]*(del_x/D)\n",
    "    Cred_x[j+1,0] = Cred_x[j+1,2] + Flux[0,j+1]*(del_x/D) - km*Cred_x[j+1,1]\n",
    "\n",
    "# Calculate current density, Z, from flux of Cox_x\n",
    "Z = -n *F * Flux * 1000 # [=] A/cm^2 -> mA/cm^2, current density\n",
    "\n",
    "inminvolt = np.argmin(Z[0])\n",
    "inmaxvolt = np.argmax(Z[0])\n",
    "Epp = eta[inmaxvolt] - eta[inminvolt]\n",
    "Epp"
   ]
  },
  {
   "cell_type": "code",
   "execution_count": 241,
   "metadata": {},
   "outputs": [
    {
     "data": {
      "text/plain": [
       "[<matplotlib.lines.Line2D at 0x7fc000630eb0>]"
      ]
     },
     "execution_count": 241,
     "metadata": {},
     "output_type": "execute_result"
    },
    {
     "data": {
      "image/png": "[encoded data removed]",
      "text/plain": [
       "<Figure size 432x288 with 1 Axes>"
      ]
     },
     "metadata": {
      "needs_background": "light"
     },
     "output_type": "display_data"
    }
   ],
   "source": [
    "tlist = np.asarray(t)\n",
    "Zlist = Z.flatten()\n",
    "Znew = Zlist[0:-1]\n",
    "plt.plot(eta,Znew)"
   ]
  },
  {
   "cell_type": "code",
   "execution_count": null,
   "metadata": {},
   "outputs": [],
   "source": []
  }
 ],
 "metadata": {
  "interpreter": {
   "hash": "dc4e3dfb5444d97d3614e5c6298b7a540bbd8b430e01fcc0b16d1666c95f4e6a"
  },
  "kernelspec": {
   "display_name": "Python 3.9.7 ('emlab')",
   "language": "python",
   "name": "python3"
  },
  "language_info": {
   "name": "python",
   "version": "3.9.7"
  },
  "orig_nbformat": 4
 },
 "nbformat": 4,
 "nbformat_minor": 2
}
