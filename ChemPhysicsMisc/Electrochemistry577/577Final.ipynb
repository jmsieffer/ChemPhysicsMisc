{
 "cells": [
  {
   "cell_type": "code",
   "execution_count": 1,
   "metadata": {},
   "outputs": [],
   "source": [
    "import numpy as np \n",
    "import matplotlib.pyplot as plt"
   ]
  },
  {
   "cell_type": "code",
   "execution_count": 24,
   "metadata": {},
   "outputs": [],
   "source": [
    "# PHYSICAL CONSTANTS \n",
    "T = 298 # Temperature [K]\n",
    "F = 96485 # Faraday’s constant [C/mol]\n",
    "R = 8.3145 # Gas constant [(C*V)/(mol*K)]\n",
    "f = F/(R*T) # Reduced electrochemical parameter\n",
    "\n",
    "# INDEPENDENT VARIABLES \n",
    "C = 1.0 #  initial concentration of Ox\n",
    "D = 1E-6 # Diffusion coefficient [cm^2/s] {default: 1E-6}\n",
    "eta0 = 0.2 # initial overpotential (relative to redox) [V] {default: 0.2}\n",
    "etaF = -0.2 # final overpotential (relative to redox) [V] {default: -0.2}\n",
    "v = 1E-3 # Scan rate [V/s] {default: 1E-3}\n",
    "n = 1.0  # Number of electrons transferred during reaction {default: 1}\n",
    "alpha = 0.5  # Transfer coefficient (unitless) {default: 0.5}\n",
    "k0 = 1E-1 # Heterogeneous rate constant [m/s] {default: 1E-1}\n",
    "kc = 1E-3 # Chemical rate constant [m/s] {default: 1E-3}\n",
    "\n",
    "# SIMULATION VARIABLES \n",
    "L = 500 # Number of time steps {default: 500}\n",
    "DM = 0.45 # model diffusion coefficient from problem. Default = 0.45\n",
    "\n",
    "# DERIVED CONSTANTS \n",
    "k = np.array(list(range(0,L))) # time index vector\n",
    "total_t  = 2*(eta0-etaF)/v # Maximum t value to simulate (1 CV)\n",
    "del_t  = total_t/L # Time interval\n",
    "t = del_t * k # Discretized t\n",
    "del_x  = np.sqrt(D*del_t/DM) # x interval\n",
    "npts_x = 100  # Number of mesh points {default: 100}\n",
    "\n",
    "# # REVERSIBILITY PARAMETERS %%\n",
    "ktk = kc*total_t   # Dimensionless kinetic parameter \n",
    "km = ktk/L # Normalized Dimensionless Kinetic parameter )\n",
    "Lambda = k0/(D*f*v)**(0.5)  # Dimensionless Reversibility Parameter \n"
   ]
  },
  {
   "cell_type": "code",
   "execution_count": 53,
   "metadata": {},
   "outputs": [],
   "source": [
    "# PRE-INITIALIZATION \n",
    "C = C / 1000 # Convert C from mol/L to mol/cm3\n",
    "eta1 = list(eta0 - v * t) # overpotential vector, negative scan\n",
    "eta2 = list(etaF + v * t) # overpotential vector, positive scan\n",
    "eta = np.asarray(eta1 + eta2) # Overpotential scane [V] \n",
    "\n",
    "Enorm = eta * f # normalized overpotential\n",
    "kf = k0 *np.exp(-alpha * n * Enorm) # [=] cm/s, fwd rate constant (pg 799)\n",
    "kb = k0 *np.exp((1-alpha) * n * Enorm) # [=] cm/s, rev rate constant (pg 799)\n",
    "\n",
    "O = C*np.ones((L+1,npts_x)) # [=] mol/cm^3, concentration of O\n",
    "R = np.zeros((L+1,npts_x))  # [=] mol/cm^3, concentration of R\n",
    "Flux = np.zeros((1,L+1)) # [=] mol/cm^2-s, flux of O at the surface"
   ]
  },
  {
   "cell_type": "code",
   "execution_count": 55,
   "metadata": {},
   "outputs": [
    {
     "ename": "IndexError",
     "evalue": "index 1 is out of bounds for axis 0 with size 1",
     "output_type": "error",
     "traceback": [
      "\u001b[0;31m---------------------------------------------------------------------------\u001b[0m",
      "\u001b[0;31mIndexError\u001b[0m                                Traceback (most recent call last)",
      "\u001b[0;32m/var/folders/v5/vj19y2_90_n_906sz5k9d6xc0000gq/T/ipykernel_83834/1209392041.py\u001b[0m in \u001b[0;36m<module>\u001b[0;34m\u001b[0m\n\u001b[1;32m      9\u001b[0m     \u001b[0;32mif\u001b[0m \u001b[0mi1\u001b[0m \u001b[0;34m<\u001b[0m \u001b[0mL\u001b[0m\u001b[0;34m:\u001b[0m\u001b[0;34m\u001b[0m\u001b[0;34m\u001b[0m\u001b[0m\n\u001b[1;32m     10\u001b[0m         \u001b[0;31m# Update flux\u001b[0m\u001b[0;34m\u001b[0m\u001b[0;34m\u001b[0m\u001b[0m\n\u001b[0;32m---> 11\u001b[0;31m         \u001b[0mFlux\u001b[0m\u001b[0;34m[\u001b[0m\u001b[0mi1\u001b[0m\u001b[0;34m+\u001b[0m\u001b[0;36m1\u001b[0m\u001b[0;34m]\u001b[0m \u001b[0;34m=\u001b[0m \u001b[0;34m(\u001b[0m\u001b[0mkf\u001b[0m\u001b[0;34m[\u001b[0m\u001b[0mi1\u001b[0m\u001b[0;34m+\u001b[0m\u001b[0;36m1\u001b[0m\u001b[0;34m]\u001b[0m \u001b[0;34m*\u001b[0m\u001b[0mO\u001b[0m\u001b[0;34m[\u001b[0m\u001b[0mi1\u001b[0m\u001b[0;34m+\u001b[0m\u001b[0;36m1\u001b[0m\u001b[0;34m,\u001b[0m\u001b[0;36m2\u001b[0m\u001b[0;34m]\u001b[0m \u001b[0;34m-\u001b[0m \u001b[0mkb\u001b[0m\u001b[0;34m[\u001b[0m\u001b[0mi1\u001b[0m\u001b[0;34m+\u001b[0m\u001b[0;36m1\u001b[0m\u001b[0;34m]\u001b[0m \u001b[0;34m*\u001b[0m \u001b[0mR\u001b[0m\u001b[0;34m[\u001b[0m\u001b[0mi1\u001b[0m\u001b[0;34m+\u001b[0m\u001b[0;36m1\u001b[0m\u001b[0;34m,\u001b[0m\u001b[0;36m2\u001b[0m\u001b[0;34m]\u001b[0m\u001b[0;34m)\u001b[0m \u001b[0;34m/\u001b[0m \u001b[0;34m(\u001b[0m\u001b[0;36m1\u001b[0m \u001b[0;34m+\u001b[0m \u001b[0mdel_x\u001b[0m\u001b[0;34m/\u001b[0m\u001b[0mD\u001b[0m\u001b[0;34m*\u001b[0m\u001b[0;34m(\u001b[0m\u001b[0mkf\u001b[0m\u001b[0;34m[\u001b[0m\u001b[0mi1\u001b[0m\u001b[0;34m+\u001b[0m\u001b[0;36m1\u001b[0m\u001b[0;34m]\u001b[0m \u001b[0;34m+\u001b[0m \u001b[0mkb\u001b[0m\u001b[0;34m[\u001b[0m\u001b[0mi1\u001b[0m\u001b[0;34m+\u001b[0m\u001b[0;36m1\u001b[0m\u001b[0;34m]\u001b[0m\u001b[0;34m)\u001b[0m\u001b[0;34m)\u001b[0m\u001b[0;34m\u001b[0m\u001b[0;34m\u001b[0m\u001b[0m\n\u001b[0m\u001b[1;32m     12\u001b[0m \u001b[0;34m\u001b[0m\u001b[0m\n\u001b[1;32m     13\u001b[0m     \u001b[0;31m# Update surface concentrations\u001b[0m\u001b[0;34m\u001b[0m\u001b[0;34m\u001b[0m\u001b[0m\n",
      "\u001b[0;31mIndexError\u001b[0m: index 1 is out of bounds for axis 0 with size 1"
     ]
    }
   ],
   "source": [
    "# START SIMULATION \n",
    "# i1 = time index. i2 = distance index\n",
    "for i1 in range (0,L):\n",
    "    # Update bulk concentrations of O and R\n",
    "    for i2 in range(1,npts_x-1):\n",
    "        O[i1+1,i2] = O[i1,i2] + DM*(O[i1,i2+1]+O[i1,i2-1]-2*O[i1,i2])\n",
    "        R[i1+1,i2] = R[i1,i2] + DM*(R[i1,i2+1]+R[i1,i2-1]-2*R[i1,i2]) - km * R[i1,i2]\n",
    "\n",
    "    if i1 < L:\n",
    "        # Update flux\n",
    "        Flux[i1+1] = (kf[i1+1] *O[i1+1,2] - kb[i1+1] * R[i1+1,2]) / (1 + del_x/D*(kf[i1+1] + kb[i1+1]))\n",
    "\n",
    "    # Update surface concentrations\n",
    "    O[i1+1,0] = O[i1+1,2] - JO[i1+1]*(Dx/D);\n",
    "    R[i1+1,0] = R[i1+1,2] + JO[i1+1]*(Dx/D) - km*R[i1+1,1]\n",
    "\n",
    "# Calculate current density, Z, from flux of O\n",
    "Z = -n *F * Flux * 1000; # [=] A/cm^2 -> mA/cm^2, current density\n"
   ]
  },
  {
   "cell_type": "code",
   "execution_count": null,
   "metadata": {},
   "outputs": [],
   "source": []
  }
 ],
 "metadata": {
  "language_info": {
   "name": "python"
  },
  "orig_nbformat": 4
 },
 "nbformat": 4,
 "nbformat_minor": 2
}
