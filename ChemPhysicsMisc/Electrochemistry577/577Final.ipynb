{
 "cells": [
  {
   "cell_type": "code",
   "execution_count": 1,
   "metadata": {},
   "outputs": [],
   "source": [
    "import numpy as np \n",
    "import matplotlib.pyplot as plt"
   ]
  },
  {
   "cell_type": "code",
   "execution_count": 24,
   "metadata": {},
   "outputs": [],
   "source": [
    "# PHYSICAL CONSTANTS %%\n",
    "T = 298 # Temperature [K]\n",
    "F = 96485 # Faraday’s constant [C/mol]\n",
    "R = 8.3145 # Gas constant [(C*V)/(mol*K)]\n",
    "f = F/(R*T) # Reduced electrochemical parameter\n",
    "\n",
    "# INDEPENDENT VARIABLES %%\n",
    "C = 1.0 #  initial concentration of Ox\n",
    "D = 1E-6 # Diffusion coefficient [cm^2/s] {default: 1E-6}\n",
    "eta0 = 0.2 # initial overpotential (relative to redox) [V] {default: 0.2}\n",
    "etaF = -0.2 # final overpotential (relative to redox) [V] {default: -0.2}\n",
    "v = 1E-3 # Scan rate [V/s] {default: 1E-3}\n",
    "n = 1.0  # Number of electrons transferred during reaction {default: 1}\n",
    "alpha = 0.5  # Transfer coefficient (unitless) {default: 0.5}\n",
    "k0 = 1E-1 # Heterogeneous rate constant [m/s] {default: 1E-1}\n",
    "kc = 1E-3 # Chemical rate constant [m/s] {default: 1E-3}\n",
    "\n",
    "# SIMULATION VARIABLES %%\n",
    "L = 500 # Number of time steps {default: 500}\n",
    "DM = 0.45 # model diffusion coefficient from problem. Default = 0.45\n",
    "\n",
    "# DERIVED CONSTANTS %%\n",
    "k = np.array(list(range(0,L))) # time index vector\n",
    "total_t  = 2*(eta0-etaF)/v # Maximum t value to simulate (1 CV)\n",
    "del_t  = total_t/L # Time interval\n",
    "t = del_t * k # Discretized t\n",
    "del_x  = np.sqrt(D*del_t/DM) # x interval\n",
    "npts_x = 100  # Number of mesh points {default: 100}\n",
    "\n",
    "# # REVERSIBILITY PARAMETERS %%\n",
    "ktk = kc*total_t   # Dimensionless kinetic parameter \n",
    "km = ktk/L # Normalized Dimensionless Kinetic parameter )\n",
    "Lambda = k0/(D*f*v)**(0.5)  # Dimensionless Reversibility Parameter \n"
   ]
  },
  {
   "cell_type": "code",
   "execution_count": 26,
   "metadata": {},
   "outputs": [],
   "source": [
    "# PRE-INITIALIZATION %%\n",
    "C = C / 1000 # Convert C from mol/L to mol/cm3\n",
    "eta1 = list(eta0 - v * t) # overpotential vector, negative scan\n",
    "eta2 = list(etaF + v * t) # overpotential vector, positive scan\n",
    "eta = np.asarray(eta1 + eta2) # Overpotential scane [V] \n",
    "\n",
    "Enorm = eta * f # normalized overpotential\n",
    "kf = k0 *np.exp(-alpha * n * Enorm); # [=] cm/s, fwd rate constant (pg 799)\n",
    "kb = k0 *np.exp((1-alpha) * n * Enorm); # [=] cm/s, rev rate constant (pg 799)\n",
    "\n",
    "O = C*np.ones((L+1,npts_x)); # [=] mol/cm^3, concentration of O\n",
    "R = np.zeros((L+1,npts_x));  # [=] mol/cm^3, concentration of R\n",
    "npts_xO = np.zeros((1,L+1)); # [=] mol/cm^2-s, flux of O at the surface"
   ]
  },
  {
   "cell_type": "code",
   "execution_count": null,
   "metadata": {},
   "outputs": [],
   "source": []
  }
 ],
 "metadata": {
  "language_info": {
   "name": "python"
  },
  "orig_nbformat": 4
 },
 "nbformat": 4,
 "nbformat_minor": 2
}
