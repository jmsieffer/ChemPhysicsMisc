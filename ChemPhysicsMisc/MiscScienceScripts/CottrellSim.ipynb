{
 "cells": [
  {
   "cell_type": "markdown",
   "metadata": {},
   "source": [
    "# Cottrell Simulations\n",
    "Based on the Fortran code found in appendix B of \"Electrochemical Methods: Second Edition\" by Bard and Faulkner."
   ]
  },
  {
   "cell_type": "code",
   "execution_count": 95,
   "metadata": {},
   "outputs": [],
   "source": [
    "import numpy as np\n",
    "import matplotlib.pyplot as plt"
   ]
  },
  {
   "cell_type": "markdown",
   "metadata": {},
   "source": [
    "### Parameter assignment for simulation"
   ]
  },
  {
   "cell_type": "code",
   "execution_count": 96,
   "metadata": {},
   "outputs": [],
   "source": [
    "# Constants \n",
    "l = 100 # Number of mesh points \n",
    "DMA = 0.40 # Model Diffusion Coefficient\n",
    "DMB = DMA # Both species have the same Diffusion coefficients\n",
    "k_iter = 100 # Number of Time Iteration Points\n",
    "\n",
    "# Creating arrays for the fractional concentrations\n",
    "fa_old = np.ones(100) \n",
    "fa_new = np.ones(100)\n",
    "fb_old = np.zeros(100)\n",
    "fb_new = np.zeros(100)\n",
    "\n",
    "# Creating arrays for several data sets used in plotting\n",
    "Z = np.zeros(l) # Current array \n",
    "T = np.zeros(l) # Time array\n",
    "X = np.ones(l) # Distances from the electrode array \n",
    "concentration_a = np.zeros(l) # Concentration of oxidized species\n",
    "concentration_b = np.zeros(l) # Concentration of reduced species\n"
   ]
  },
  {
   "cell_type": "markdown",
   "metadata": {},
   "source": [
    "### Numerical Simulation"
   ]
  },
  {
   "cell_type": "code",
   "execution_count": 97,
   "metadata": {},
   "outputs": [
    {
     "name": "stderr",
     "output_type": "stream",
     "text": [
      "C:\\Users\\IBIS\\AppData\\Local\\Temp\\ipykernel_284\\2611855366.py:39: RuntimeWarning: invalid value encountered in sqrt\n",
      "  Zcott=1/np.sqrt(np.pi*T) # Current derived from the Cottrell equation\n"
     ]
    }
   ],
   "source": [
    "# Loop for determining arrays\n",
    "for k in range(0, k_iter):\n",
    "\n",
    "    # Populating the time values\n",
    "    T[k]=(k-0.5)/l \n",
    "\n",
    "    # Diffusion Into the First Box\n",
    "    fa_new[0] = fa_old[0] + DMA*(fa_old[1]-fa_old[0])\n",
    "    fb_new[0] = fb_old[0] + DMA*(fb_old[1]-fb_old[0])\n",
    "\n",
    "    # Creating a new J_max for each loop that allows for many iterations to grow over time\n",
    "    J_max = 4.2*np.sqrt(k)\n",
    "\n",
    "    # Diffusion beyond the first box\n",
    "    for j in range(1, int(J_max)):\n",
    "        fa_new[j] = fa_old[j]+DMA*(fa_old[j-1]-2*fa_old[j]+fa_old[j+1])\n",
    "        fb_new[j] = fb_old[j]+DMA*(fb_old[j-1]-2*fb_old[j]+fb_old[j+1])\n",
    "\n",
    "    # Faradaic Conversion and Current Flow\n",
    "    Z[k] = np.sqrt(l/DMA)*fa_new[0]\n",
    "    fb_new[0] = fb_new[0]+fa_new[0]\n",
    "    fa_new[0] = 0\n",
    "\n",
    "    # Set up old arrays for next iteration\n",
    "    for j in range(0, int(J_max)):\n",
    "        # X[j] = (j-1)/np.sqrt(DMA*l)\n",
    "        fa_old[j]=fa_new[j]\n",
    "        fb_old[j] =fb_new[j]\n",
    "\n",
    "    # Populating the distance aray\n",
    "    for j in range(0, l):\n",
    "        X[j] = (j-1)/np.sqrt(DMA*l)\n",
    "\n",
    "    # Pulling concentration profiles at a specific iteration point\n",
    "    if k == 20:\n",
    "        concentration_a = fa_new\n",
    "        concentration_b = fb_new\n",
    "\n",
    "Zcott=1/np.sqrt(np.pi*T) # Current derived from the Cottrell equation\n",
    "R = Z/Zcott # Ratio of simulation current to Cottrell equation currents"
   ]
  },
  {
   "cell_type": "markdown",
   "metadata": {},
   "source": [
    "## Plots "
   ]
  },
  {
   "cell_type": "markdown",
   "metadata": {},
   "source": [
    "### Both Currents on the same plot"
   ]
  },
  {
   "cell_type": "code",
   "execution_count": 98,
   "metadata": {},
   "outputs": [
    {
     "data": {
      "text/plain": [
       "<matplotlib.legend.Legend at 0x1ffd7b17400>"
      ]
     },
     "execution_count": 98,
     "metadata": {},
     "output_type": "execute_result"
    },
    {
     "data": {
      "image/png": "[encoded data removed]",
      "text/plain": [
       "<Figure size 432x288 with 1 Axes>"
      ]
     },
     "metadata": {
      "needs_background": "light"
     },
     "output_type": "display_data"
    }
   ],
   "source": [
    "fig = plt.figure(figsize = (6,4))\n",
    "\n",
    "#Trends of interest\n",
    "plt.plot(T,Z,'-', color = 'red')\n",
    "plt.plot(T,Z,'.', color = 'red', label = 'Simulation Current')\n",
    "plt.plot(T,Zcott, '-', color = 'black')\n",
    "plt.plot(T,Zcott, '.', color = 'black', label = 'Cottrell Current')\n",
    "#Legend\n",
    "plt.legend(loc=\"upper right\")"
   ]
  },
  {
   "cell_type": "markdown",
   "metadata": {},
   "source": [
    "### Current Ratio Plots"
   ]
  },
  {
   "cell_type": "code",
   "execution_count": 99,
   "metadata": {},
   "outputs": [
    {
     "data": {
      "text/plain": [
       "[<matplotlib.lines.Line2D at 0x1ffd7b906a0>]"
      ]
     },
     "execution_count": 99,
     "metadata": {},
     "output_type": "execute_result"
    },
    {
     "data": {
      "image/png": "[encoded data removed]",
      "text/plain": [
       "<Figure size 432x288 with 1 Axes>"
      ]
     },
     "metadata": {
      "needs_background": "light"
     },
     "output_type": "display_data"
    }
   ],
   "source": [
    "fig = plt.figure(figsize = (6,4))\n",
    "\n",
    "#Trend \n",
    "plt.plot(T,R,'-', color = 'black')\n",
    "plt.plot(T,R,'.', color = 'black')"
   ]
  },
  {
   "cell_type": "markdown",
   "metadata": {},
   "source": [
    "### Concentration Profiles"
   ]
  },
  {
   "cell_type": "code",
   "execution_count": 100,
   "metadata": {},
   "outputs": [
    {
     "data": {
      "text/plain": [
       "<matplotlib.legend.Legend at 0x1ffd7be1880>"
      ]
     },
     "execution_count": 100,
     "metadata": {},
     "output_type": "execute_result"
    },
    {
     "data": {
      "image/png": "[encoded data removed]",
      "text/plain": [
       "<Figure size 432x288 with 1 Axes>"
      ]
     },
     "metadata": {
      "needs_background": "light"
     },
     "output_type": "display_data"
    }
   ],
   "source": [
    "fig = plt.figure(figsize = (6,4))\n",
    "\n",
    "#Trend \n",
    "plt.plot(X,concentration_a,'-', color = 'black', label = 'Normalized COx')\n",
    "plt.plot(X,concentration_b,'-', color = 'red', label = 'Normalized CRed')\n",
    "\n",
    "#Legend\n",
    "plt.legend(loc=\"best\")"
   ]
  }
 ],
 "metadata": {
  "interpreter": {
   "hash": "dc4e3dfb5444d97d3614e5c6298b7a540bbd8b430e01fcc0b16d1666c95f4e6a"
  },
  "kernelspec": {
   "display_name": "Python 3.9.7 ('emlab')",
   "language": "python",
   "name": "python3"
  },
  "language_info": {
   "codemirror_mode": {
    "name": "ipython",
    "version": 3
   },
   "file_extension": ".py",
   "mimetype": "text/x-python",
   "name": "python",
   "nbconvert_exporter": "python",
   "pygments_lexer": "ipython3",
   "version": "3.9.7"
  },
  "orig_nbformat": 4
 },
 "nbformat": 4,
 "nbformat_minor": 2
}
