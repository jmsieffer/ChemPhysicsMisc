{
 "cells": [
  {
   "cell_type": "markdown",
   "metadata": {},
   "source": [
    "# Cottrell Simulations\n",
    "Based on the Fortran code found in appendix B of \"Electrochemical Methods: Second Edition\" by Bard and Faulkner."
   ]
  },
  {
   "cell_type": "code",
   "execution_count": 97,
   "metadata": {},
   "outputs": [],
   "source": [
    "import numpy as np\n",
    "import matplotlib.pyplot as plt"
   ]
  },
  {
   "cell_type": "code",
   "execution_count": 98,
   "metadata": {},
   "outputs": [],
   "source": [
    "# Constants \n",
    "l = 100\n",
    "DMA = 0.40\n",
    "DMB = DMA\n",
    "k_iter = 100\n",
    "\n",
    "fa_old = np.ones(100)\n",
    "fa_new = np.ones(100)\n",
    "fb_old = np.zeros(100)\n",
    "fb_new = np.zeros(100)"
   ]
  },
  {
   "cell_type": "code",
   "execution_count": 99,
   "metadata": {},
   "outputs": [
    {
     "name": "stderr",
     "output_type": "stream",
     "text": [
      "/var/folders/v5/vj19y2_90_n_906sz5k9d6xc0000gq/T/ipykernel_18116/546944133.py:37: RuntimeWarning: invalid value encountered in sqrt\n",
      "  Zcott=1/np.sqrt(np.pi*T)\n"
     ]
    }
   ],
   "source": [
    "\n",
    "Z = np.zeros(l)\n",
    "T = np.zeros(l)\n",
    "concentration_a = np.zeros(l)\n",
    "concentration_b = np.zeros(l)\n",
    "\n",
    "for k in range(0, k_iter):\n",
    "\n",
    "    T[k]=(k-0.5)/l\n",
    "\n",
    "    #Diffusion Into the First Box\n",
    "    fa_new[0] = fa_old[0] + DMA*(fa_old[1]-fa_old[0])\n",
    "    fb_new[0] = fb_old[0] + DMA*(fb_old[1]-fb_old[0])\n",
    "\n",
    "    J_max = 4.2*np.sqrt(k)\n",
    "    #Diffusion beyond the first box\n",
    "    for j in range(1, int(J_max)):\n",
    "        fa_new[j] = fa_old[j]+DMA*(fa_old[j-1]-2*fa_old[j]+fa_old[j+1])\n",
    "        fb_new[j] = fb_old[j]+DMA*(fb_old[j-1]-2*fb_old[j]+fb_old[j+1])\n",
    "\n",
    "    #Faradaic Conversion and Current Flow\n",
    "    Z[k] = np.sqrt(l/DMA)*fa_new[0]\n",
    "    fb_new[0] = fb_new[0]+fa_new[0]\n",
    "    fa_new[0] = 0\n",
    "\n",
    "    for j in range(0, int(J_max)):\n",
    "        X = (j-1)/np.sqrt(DMA*l)\n",
    "\n",
    "    for j in range(0, int(J_max)):\n",
    "        fa_old[j]=fa_new[j]\n",
    "        fb_old[j] =fb_new[j]\n",
    "\n",
    "    # if k == 50:\n",
    "    #     concentration_a[j] = fa_new[j]\n",
    "    #     concentration_b[j] = fb_new[j]\n",
    "\n",
    "\n",
    "Zcott=1/np.sqrt(np.pi*T)\n",
    "R = Z/Zcott\n"
   ]
  },
  {
   "cell_type": "code",
   "execution_count": 100,
   "metadata": {},
   "outputs": [
    {
     "data": {
      "text/plain": [
       "[<matplotlib.lines.Line2D at 0x7fa992164f10>]"
      ]
     },
     "execution_count": 100,
     "metadata": {},
     "output_type": "execute_result"
    },
    {
     "data": {
      "image/png": "[encoded data removed]",
      "text/plain": [
       "<Figure size 216x288 with 1 Axes>"
      ]
     },
     "metadata": {
      "needs_background": "light"
     },
     "output_type": "display_data"
    }
   ],
   "source": [
    "fig = plt.figure(figsize = (3,4))\n",
    "\n",
    "plt.plot(T,Z)\n"
   ]
  }
 ],
 "metadata": {
  "interpreter": {
   "hash": "dc4e3dfb5444d97d3614e5c6298b7a540bbd8b430e01fcc0b16d1666c95f4e6a"
  },
  "kernelspec": {
   "display_name": "Python 3.9.7 ('emlab')",
   "language": "python",
   "name": "python3"
  },
  "language_info": {
   "codemirror_mode": {
    "name": "ipython",
    "version": 3
   },
   "file_extension": ".py",
   "mimetype": "text/x-python",
   "name": "python",
   "nbconvert_exporter": "python",
   "pygments_lexer": "ipython3",
   "version": "3.9.7"
  },
  "orig_nbformat": 4
 },
 "nbformat": 4,
 "nbformat_minor": 2
}
