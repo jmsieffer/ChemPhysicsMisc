{
 "cells": [
  {
   "cell_type": "markdown",
   "metadata": {},
   "source": [
    "# Cottrell Simulations\n",
    "Based on the Fortran code found in appendix B of \"Electrochemical Methods: Second Edition\" by Bard and Faulkner."
   ]
  },
  {
   "cell_type": "code",
   "execution_count": null,
   "metadata": {},
   "outputs": [],
   "source": [
    "import numpy as np\n",
    "import matplotlib.pyplot as plt"
   ]
  },
  {
   "cell_type": "code",
   "execution_count": null,
   "metadata": {},
   "outputs": [],
   "source": [
    "# Constants \n",
    "l = 100\n",
    "DMA = 0.40\n",
    "DMB = DMA\n",
    "\n",
    "fa_old = np.ones(100)\n",
    "fa_new = np.ones(100)\n",
    "fa_old = np.zeros(100)\n",
    "fa_new = np.zeros(100)"
   ]
  },
  {
   "cell_type": "code",
   "execution_count": null,
   "metadata": {},
   "outputs": [],
   "source": [
    "J_max = 4.2*np.sqrt(K)\n",
    "\n",
    "for j in range(1, J_max):\n",
    "    #Diffusion beyond the first box\n",
    "    fa_new[j] = fa_old[j]+DMA*(fa_old[j-1]-2*fa_old[j]*fa_old[j+1])\n",
    "    fb_new[j] = fb_old[j]+DMA*(fb_old[j-1]-2*fb_old[j]*fb_old[j+1])\n",
    "\n",
    "    #Diffusion Into the First Box\n",
    "    fa_new(0) = fa_old(0) + DMA*(fa_old(1)-fa_old(0))\n",
    "    fb_new(0) = fb_old(0) + DMB*(fb_old(1)-fb_old(0))\n",
    "\n",
    "    #Faradaic Conversion and Current Flow\n",
    "    Z = np.sqrt(l/DMA)*fa_new[0]\n",
    "    fb_new[0] = fb_new[0]+fa_new[0]\n",
    "    fa_new[0] = 0\n",
    "    "
   ]
  }
 ],
 "metadata": {
  "interpreter": {
   "hash": "dc4e3dfb5444d97d3614e5c6298b7a540bbd8b430e01fcc0b16d1666c95f4e6a"
  },
  "kernelspec": {
   "display_name": "Python 3.9.7 ('emlab')",
   "language": "python",
   "name": "python3"
  },
  "language_info": {
   "codemirror_mode": {
    "name": "ipython",
    "version": 3
   },
   "file_extension": ".py",
   "mimetype": "text/x-python",
   "name": "python",
   "nbconvert_exporter": "python",
   "pygments_lexer": "ipython3",
   "version": "3.9.7"
  },
  "orig_nbformat": 4
 },
 "nbformat": 4,
 "nbformat_minor": 2
}
