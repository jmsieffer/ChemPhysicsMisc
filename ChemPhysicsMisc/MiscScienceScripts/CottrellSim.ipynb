{
 "cells": [
  {
   "cell_type": "markdown",
   "metadata": {},
   "source": [
    "# Cottrell Simulations\n",
    "Based on the Fortran code found in appendix B of \"Electrochemical Methods\" by Bard and Faulkner"
   ]
  },
  {
   "cell_type": "code",
   "execution_count": 1,
   "metadata": {},
   "outputs": [],
   "source": [
    "import numpy as np\n",
    "import matplotlib.pyplot as plt"
   ]
  },
  {
   "cell_type": "code",
   "execution_count": 2,
   "metadata": {},
   "outputs": [],
   "source": [
    "# Constants \n",
    "l = 100\n",
    "DMA = 0.40\n",
    "DMB = DMA\n",
    "\n",
    "fa_old = 1\n",
    "fa_new = 1\n",
    "fa_old = 0\n",
    "fa_new = 1"
   ]
  }
 ],
 "metadata": {
  "interpreter": {
   "hash": "dc4e3dfb5444d97d3614e5c6298b7a540bbd8b430e01fcc0b16d1666c95f4e6a"
  },
  "kernelspec": {
   "display_name": "Python 3.9.7 ('emlab')",
   "language": "python",
   "name": "python3"
  },
  "language_info": {
   "codemirror_mode": {
    "name": "ipython",
    "version": 3
   },
   "file_extension": ".py",
   "mimetype": "text/x-python",
   "name": "python",
   "nbconvert_exporter": "python",
   "pygments_lexer": "ipython3",
   "version": "3.9.7"
  },
  "orig_nbformat": 4
 },
 "nbformat": 4,
 "nbformat_minor": 2
}
