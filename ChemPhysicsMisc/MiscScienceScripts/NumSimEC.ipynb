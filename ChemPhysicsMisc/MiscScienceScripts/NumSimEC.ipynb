{
 "cells": [
  {
   "cell_type": "markdown",
   "metadata": {},
   "source": [
    "# Numerical Simulation of Electrochemical Methods"
   ]
  },
  {
   "cell_type": "markdown",
   "metadata": {},
   "source": [
    "This script is adapted from \"Demystifying Mathematical Modelling of Electrochemical Systems\" by Stephens and Mauzeroll. The code provided in the SI of this paper is written in Matlab, and the work below adapts it into a functioning pythong script. "
   ]
  },
  {
   "cell_type": "markdown",
   "metadata": {},
   "source": [
    "## Linear Sweep Voltammetry "
   ]
  },
  {
   "cell_type": "markdown",
   "metadata": {},
   "source": [
    "This code specifically applies to a linear sweep voltamogram for the reduction: Fe(CN)6^3- + e^- -> Fe(CN)6^3-. Many of the other parameters have also been specified by the problem of interest. These paramerts may be altered to represent different redox systems, or even different electrochemical methods. "
   ]
  },
  {
   "cell_type": "code",
   "execution_count": 4,
   "metadata": {},
   "outputs": [],
   "source": [
    "import numpy as np \n",
    "import matplotlib.pyplot as pyplot\n",
    "import scipy"
   ]
  },
  {
   "cell_type": "markdown",
   "metadata": {},
   "source": [
    "### Simulation Input"
   ]
  },
  {
   "cell_type": "code",
   "execution_count": 5,
   "metadata": {},
   "outputs": [],
   "source": [
    "# Constants\n",
    "F = 96485 # Faraday’s constant [C/mol]\n",
    "R = 8.314 # Gas constant [(C*V)/(mol*K)]\n",
    "T = 298 # Temperature [K]\n",
    "\n",
    "#Electrochemical parameters \n",
    "# Potential waveform\n",
    "E_start = 0 # Start potential [V] {default: 0}\n",
    "E_end = -0.8; # End potential [V] {default: -0.8}\n",
    "E_0 = -0.4 #Standard potential [V] {default: -0.4}\n",
    "nu = 10 # Scan rate [mV/s] {default: 10}\n",
    "\n",
    "\n",
    "# Redox mediator\n",
    "D = 1E-6 # Diffusion coefficient [cm^2/s] {default: 1E-6}\n",
    "c_ox = 1 # Bulk concentration of oxidized species [M] {default: 1}\n",
    "c_red = 1E-3 # Bulk concentration of reduced species [M] {default: 1E-3}\n",
    "n = 1 # Number of electrons transferred during reaction {default: 1}\n",
    "alpha = 0.5 # Transfer coefficient (unitless) {default: 0.5}\n",
    "\n",
    "# Electrode\n",
    "A = 1 # Electrode area [cm^2] {default: 1}\n",
    "k_0 = 1E-1  # Heterogeneous rate constant [m/s] {default: 1E-1}\n",
    "\n",
    "# Finite difference parameters \n",
    "npts_x = 100 # Number of mesh points {default: 100}\n",
    "npts_t = 500 # Number of time steps {default: 500}"
   ]
  },
  {
   "cell_type": "markdown",
   "metadata": {},
   "source": [
    "### Time 0 - Initial Setup and Time Step"
   ]
  },
  {
   "cell_type": "code",
   "execution_count": 38,
   "metadata": {},
   "outputs": [],
   "source": [
    "# Discretize x\n",
    "total_x = 0.1 # Maximum x value to simulate [cm]\n",
    "del_x = total_x/npts_x # x interval\n",
    "#x = [0:del_x:total_x]’ # Discretized x\n",
    "\n",
    "# Discretize t\n",
    "total_t = abs(E_end - E_start)/(nu/1000) # Maximum t value to simulate (1 LSV)\n",
    "del_t = total_t/npts_t # Time interval\n",
    "#t = [0:del_t:total_t]’ % Discretized t\n",
    "\n",
    "# Set uniform concentration along discretized x\n",
    "cox_x = np.tile(c_ox, [npts_x,npts_t])\n",
    "cred_x = np.tile(c_red, [npts_x,npts_t])\n",
    "\n",
    "# Setup empty matrices for time-dependent quantities that will be filled in as the simulation progresses\n",
    "E_t = np.zeros((npts_t,1))\n",
    "kred_t = np.zeros((npts_t,1))\n",
    "i_t = np.zeros((npts_t,1))\n",
    "\n",
    "# Calculate initial potential\n",
    "E_curr = E_start # E_curr = Current potential (single value)\n",
    "E_t[0] = E_curr # E_t = Potential waveform (matrix of values)\n",
    "\n",
    "\n",
    "# Calculate formal potential according to the Nernst equation\n",
    "E_eq = E_0 - ((R*T)/(n*F) * np.log(c_ox/c_red))\n",
    "\n",
    "# Calculate initial rate constant according to the Butler-Volmer equation\n",
    "eta = E_curr - E_eq # Overpotential (V)\n",
    "kred_curr = k_0*np.exp((-alpha*n*F*eta)/(R*T))\n",
    "\n",
    "# Concentration in box 0 updated due to chemical reaction\n",
    "cred_x[0,0] = (cred_x[0] + (del_t*(kred_curr * cox_x[0,0])))[0] # Equation 17\n",
    "cox_x[0,0] = (cox_x[0] - (del_t*(kred_curr * cox_x[0,0])))[0] # Equation 20\n",
    "\n"
   ]
  },
  {
   "cell_type": "code",
   "execution_count": null,
   "metadata": {},
   "outputs": [],
   "source": []
  }
 ],
 "metadata": {
  "interpreter": {
   "hash": "dc4e3dfb5444d97d3614e5c6298b7a540bbd8b430e01fcc0b16d1666c95f4e6a"
  },
  "kernelspec": {
   "display_name": "Python 3.9.7 ('emlab')",
   "language": "python",
   "name": "python3"
  },
  "language_info": {
   "codemirror_mode": {
    "name": "ipython",
    "version": 3
   },
   "file_extension": ".py",
   "mimetype": "text/x-python",
   "name": "python",
   "nbconvert_exporter": "python",
   "pygments_lexer": "ipython3",
   "version": "3.9.7"
  },
  "orig_nbformat": 4
 },
 "nbformat": 4,
 "nbformat_minor": 2
}
