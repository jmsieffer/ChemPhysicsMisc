{
 "cells": [
  {
   "cell_type": "markdown",
   "metadata": {},
   "source": [
    "### Pourbaix Diagrams\n",
    "This code is used to used to create Pourbaix Diagrams with Matplotlib. Most of the calculations will be done by hand, though the code allows for some calculations to be done by the code. That said, this is mostly a plotting script. "
   ]
  },
  {
   "cell_type": "code",
   "execution_count": 8,
   "metadata": {},
   "outputs": [],
   "source": [
    "import numpy as np\n",
    "import matplotlib\n",
    "import matplotlib.pyplot as plt"
   ]
  },
  {
   "cell_type": "markdown",
   "metadata": {},
   "source": [
    "## Aluminum System"
   ]
  },
  {
   "cell_type": "code",
   "execution_count": 38,
   "metadata": {},
   "outputs": [
    {
     "data": {
      "text/plain": [
       "array([-1.51617277, -1.51618351, -1.5161948 , -1.51620666, -1.51621912,\n",
       "       -1.5162322 , -1.51624592, -1.51626031, -1.5162754 , -1.51629121,\n",
       "       -1.51630777, -1.5163251 , -1.51634324, -1.51636222, -1.51638206,\n",
       "       -1.5164028 , -1.51642447, -1.5164471 , -1.51647073, -1.5164954 ,\n",
       "       -1.51652113, -1.51654796, -1.51657593, -1.51660509, -1.51663546,\n",
       "       -1.5166671 , -1.51670004, -1.51673432, -1.51676999, -1.51680709,\n",
       "       -1.51684567, -1.51688577, -1.51692745, -1.51697074, -1.51701571,\n",
       "       -1.5170624 , -1.51711087, -1.51716117, -1.51721334, -1.51726746,\n",
       "       -1.51732358, -1.51738175, -1.51744203, -1.5175045 , -1.5175692 ,\n",
       "       -1.5176362 , -1.51770557, -1.51777737, -1.51785168, -1.51792855,\n",
       "       -1.51800807, -1.5180903 , -1.51817532, -1.5182632 , -1.51835402,\n",
       "       -1.51844785, -1.51854478, -1.5186449 , -1.51874827, -1.51885498,\n",
       "       -1.51896513, -1.51907879, -1.51919607, -1.51931704, -1.51944181,\n",
       "       -1.51957046, -1.51970309, -1.51983981, -1.5199807 , -1.52012588,\n",
       "       -1.52027544, -1.5204295 , -1.52058815, -1.52075151, -1.52091969,\n",
       "       -1.5210928 , -1.52127095, -1.52145427, -1.52164288, -1.52183688,\n",
       "       -1.52203641, -1.5222416 , -1.52245256, -1.52266944, -1.52289235,\n",
       "       -1.52312144, -1.52335684, -1.52359869, -1.52384712, -1.52410229,\n",
       "       -1.52436434, -1.52463341, -1.52490966, -1.52519323, -1.52548429,\n",
       "       -1.52578298, -1.52608947, -1.52640393, -1.5267265 , -1.52705737])"
      ]
     },
     "execution_count": 38,
     "metadata": {},
     "output_type": "execute_result"
    }
   ],
   "source": [
    "#Solvent boundary lines\n",
    "pH = np.linspace(0,12,100)\n",
    "BoundaryHH2 = -0.059*pH\n",
    "BoundaryO2H2O = 1.29-0.059*pH\n",
    "\n",
    "phAl2O3Al = np.linspace(4,8,100)\n",
    "BoundaryAl2O3Al = -1.516-(0.059*phAl2O3Al)**6\n",
    "BoundaryAl2O3Al\n",
    "\n"
   ]
  },
  {
   "cell_type": "code",
   "execution_count": 39,
   "metadata": {},
   "outputs": [
    {
     "data": {
      "text/plain": [
       "Text(0, 0.5, 'E(V)')"
      ]
     },
     "execution_count": 39,
     "metadata": {},
     "output_type": "execute_result"
    },
    {
     "data": {
      "image/png": "[encoded data removed]",
      "text/plain": [
       "<Figure size 216x288 with 1 Axes>"
      ]
     },
     "metadata": {
      "needs_background": "light"
     },
     "output_type": "display_data"
    }
   ],
   "source": [
    "fig = plt.figure(figsize = (3,4))\n",
    "\n",
    "#Axis limits\n",
    "plt.xlim(-0,12)\n",
    "plt.ylim(-2.5,2)\n",
    "\n",
    "#All of the relevant boundary lines. Everything in this cell up to this point can be copied.\n",
    "plt.plot(pH,BoundaryHH2, '--', color = 'black')\n",
    "plt.plot(pH,BoundaryO2H2O, '--', color = 'black')\n",
    "plt.plot(phAl2O3Al,BoundaryAl2O3Al, color = 'black')\n",
    "plt.axhline(-1.66,xmax= .33, color = 'black')\n",
    "plt.axvline(2.75, ymin= .19, color = 'black')\n",
    "plt.axvline(8.93, color = 'black')\n",
    "plt.axvline(5.27, color = 'black', linestyle =  '--')\n",
    "\n",
    "#Font selection\n",
    "matplotlib.rcParams['font.serif'] = \"Palatino\"\n",
    "matplotlib.rcParams['font.family'] = \"serif\"\n",
    "\n",
    "#Plot Labeling\n",
    "plt.title('Pourbaix Diagram for Al System')\n",
    "plt.xlabel('pH', fontsize = '12')\n",
    "plt.ylabel('E(V)', fontsize = '12')"
   ]
  },
  {
   "cell_type": "code",
   "execution_count": null,
   "metadata": {},
   "outputs": [],
   "source": []
  }
 ],
 "metadata": {
  "interpreter": {
   "hash": "dc4e3dfb5444d97d3614e5c6298b7a540bbd8b430e01fcc0b16d1666c95f4e6a"
  },
  "kernelspec": {
   "display_name": "Python 3.9.7 64-bit ('emlab': conda)",
   "name": "python3"
  },
  "language_info": {
   "codemirror_mode": {
    "name": "ipython",
    "version": 3
   },
   "file_extension": ".py",
   "mimetype": "text/x-python",
   "name": "python",
   "nbconvert_exporter": "python",
   "pygments_lexer": "ipython3",
   "version": "3.9.7"
  },
  "orig_nbformat": 4
 },
 "nbformat": 4,
 "nbformat_minor": 2
}
