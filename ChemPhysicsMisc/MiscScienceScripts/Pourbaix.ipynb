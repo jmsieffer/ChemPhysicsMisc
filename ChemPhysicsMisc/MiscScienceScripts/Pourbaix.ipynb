{
 "cells": [
  {
   "cell_type": "markdown",
   "metadata": {},
   "source": [
    "# Pourbaix Diagrams\n",
    "This code is used to used to create Pourbaix Diagrams with Matplotlib. Most of the calculations will be done by hand, though the code allows for some calculations to be done by the code. That said, this is mostly a plotting script. "
   ]
  },
  {
   "cell_type": "code",
   "execution_count": 2,
   "metadata": {},
   "outputs": [],
   "source": [
    "import numpy as np\n",
    "import matplotlib\n",
    "import matplotlib.pyplot as plt"
   ]
  },
  {
   "cell_type": "markdown",
   "metadata": {},
   "source": [
    "## Aluminum System"
   ]
  },
  {
   "cell_type": "code",
   "execution_count": 3,
   "metadata": {},
   "outputs": [],
   "source": [
    "#Solvent boundary lines\n",
    "pH = np.linspace(0,14,100)\n",
    "BoundaryHH2 = -0.059*pH\n",
    "BoundaryO2H2O = 1.29-0.059*pH\n",
    "\n",
    "phAl2O3Al = np.linspace(4,8,100)\n",
    "BoundaryAl2O3Al = -1.516-(6*0.059*phAl2O3Al)\n",
    "FakeAl2O3Aly = np.linspace(-1.66, -2.5, 100)\n",
    "FakeAl2O3Alx = np.linspace(4, 8, 100)\n",
    "\n"
   ]
  },
  {
   "cell_type": "code",
   "execution_count": 37,
   "metadata": {},
   "outputs": [
    {
     "data": {
      "text/plain": [
       "Text(0, 0.5, 'E(V)')"
      ]
     },
     "execution_count": 37,
     "metadata": {},
     "output_type": "execute_result"
    },
    {
     "data": {
      "image/png": "[encoded data removed]",
      "text/plain": [
       "<Figure size 216x288 with 1 Axes>"
      ]
     },
     "metadata": {
      "needs_background": "light"
     },
     "output_type": "display_data"
    }
   ],
   "source": [
    "fig = plt.figure(figsize = (3,4))\n",
    "\n",
    "#Axis limits\n",
    "plt.xlim(-0,12)\n",
    "plt.ylim(-2.5,2)\n",
    "\n",
    "#All of the relevant boundary lines. Everything in this cell up to this point can be copied.\n",
    "plt.plot(pH,BoundaryHH2, '--', color = 'black')\n",
    "plt.plot(pH,BoundaryO2H2O, '--', color = 'black')\n",
    "plt.plot(FakeAl2O3Alx,FakeAl2O3Aly, color = 'black', linewidth=4)\n",
    "plt.axhline(-1.66,xmax= .33, color = 'black')\n",
    "plt.axvline(2.75, ymin= .19, color = 'black')\n",
    "plt.axvline(8.93, color = 'black')\n",
    "plt.axvline(5.27, color = 'black', linestyle =  '--')\n",
    "\n",
    "#Font selection\n",
    "matplotlib.rcParams['font.serif'] = \"Palatino\"\n",
    "matplotlib.rcParams['font.family'] = \"serif\"\n",
    "\n",
    "#Plot Labeling\n",
    "plt.title('Pourbaix Diagram for Al System')\n",
    "plt.xlabel('pH', fontsize = '12')\n",
    "plt.ylabel('E(V)', fontsize = '12')"
   ]
  },
  {
   "cell_type": "markdown",
   "metadata": {},
   "source": [
    "## Cobalt System"
   ]
  },
  {
   "cell_type": "code",
   "execution_count": 13,
   "metadata": {},
   "outputs": [],
   "source": [
    "#Derivations of Lines\n",
    "F = 96485\n",
    "T = 298\n",
    "R = 8.314\n",
    "logac = -4\n",
    "\n",
    "#Cu2+ to CuO\n",
    "DelGN = ((-128.29)-(65.04-237.14))*1000\n",
    "logk = -DelGN/(2.303*R*T)\n",
    "pHcu2cuo =-(logk+logac)/2 #Value does not seem to be correct\n",
    "\n",
    "#Cus to Cu2O\n",
    "pHCusCu2O = np.linspace(4.2,12,100)\n",
    "DelGCusCu2O = ((-147.9)-(-237.14))*1000\n",
    "ENCusCu2O = DelGCusCu2O/(2*F) - (0.0592)*pHCusCu2O #Verify Ecell\n",
    "\n",
    "\n",
    "#Cu2 to Cu2O \n",
    "pHCu2Cu20 = np.linspace(4.1,pHcu2cuo,100)\n",
    "DelGNCu2Cu2O = ((-147.9)-((2*65.04)-237.14))*1000\n",
    "EGNCu2Cu2O = ((-DelGNCu2Cu2O)/(2*F)) + (0.0592)*(logac) + (0.0592)*pHCu2Cu20 \n",
    "\n",
    "#Cu2O to CuO\n",
    "pHCu2OCuO = np.linspace(pHcu2cuo,12,100)\n",
    "DelGCu2OCuO = (2*-128.29 - (-237.14-147.9))*1000\n",
    "ECu2OCuO = ((DelGCu2OCuO)/(2*F)) -(0.0592)*pHCu2OCuO \n",
    "\n",
    "\n"
   ]
  },
  {
   "cell_type": "code",
   "execution_count": 17,
   "metadata": {},
   "outputs": [
    {
     "data": {
      "image/png": "[encoded data removed]",
      "text/plain": [
       "<Figure size 216x288 with 1 Axes>"
      ]
     },
     "metadata": {
      "needs_background": "light"
     },
     "output_type": "display_data"
    }
   ],
   "source": [
    "fig = plt.figure(figsize = (3,4))\n",
    "\n",
    "#Axis limits\n",
    "plt.xlim(-0,12)\n",
    "plt.ylim(-1,1)\n",
    "\n",
    "#All of the relevant boundary lines. \n",
    "plt.plot(pH,BoundaryHH2, '--', color = 'black')\n",
    "plt.plot(pH,BoundaryO2H2O, '--', color = 'black')\n",
    "plt.plot(pHCusCu2O, ENCusCu2O, '-', color = 'black', linewidth=3) #Cus to Cu20\n",
    "plt.plot(pHCu2Cu20, EGNCu2Cu2O, '-', color = 'black', linewidth=1)\n",
    "plt.plot(pHCu2OCuO,ECu2OCuO, '-', color = 'black', linewidth=3)\n",
    "# plt.axhline(-0.52,xmax= .33, color = 'black', linestyle =  '--') #Cu -> Cu+\n",
    "plt.axhline(0.2188,xmax= .34, color = 'black', linestyle =  '-', linewidth=1) #Cus -> Cu2+\n",
    "#plt.axhline(0.159,xmax= .708, color = 'black', linestyle =  '--', linewidth=2) #Cu+ -> Cu2+\n",
    "plt.axvline(pHcu2cuo,ymin= .665, color = 'black', linewidth=1) #Cu2+ -> CuO\n",
    "\n",
    "\n",
    "#Font selection\n",
    "matplotlib.rcParams['font.serif'] = \"Palatino\"\n",
    "matplotlib.rcParams['font.family'] = \"serif\"\n",
    "\n",
    "#Plot Labeling\n",
    "plt.title('Pourbaix Diagram for Cu System')\n",
    "plt.xlabel('pH', fontsize = '12')\n",
    "plt.ylabel('E(V)', fontsize = '12')\n",
    "\n",
    "fig.savefig('CuPourbaix.png', format='png', dpi=1200)"
   ]
  },
  {
   "cell_type": "code",
   "execution_count": null,
   "metadata": {},
   "outputs": [],
   "source": []
  }
 ],
 "metadata": {
  "interpreter": {
   "hash": "dc4e3dfb5444d97d3614e5c6298b7a540bbd8b430e01fcc0b16d1666c95f4e6a"
  },
  "kernelspec": {
   "display_name": "Python 3.9.7 64-bit ('emlab': conda)",
   "name": "python3"
  },
  "language_info": {
   "codemirror_mode": {
    "name": "ipython",
    "version": 3
   },
   "file_extension": ".py",
   "mimetype": "text/x-python",
   "name": "python",
   "nbconvert_exporter": "python",
   "pygments_lexer": "ipython3",
   "version": "3.9.7"
  },
  "orig_nbformat": 4
 },
 "nbformat": 4,
 "nbformat_minor": 2
}
