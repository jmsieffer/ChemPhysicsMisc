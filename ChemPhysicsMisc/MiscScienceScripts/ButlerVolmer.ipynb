{
 "cells": [
  {
   "cell_type": "code",
   "execution_count": 1,
   "metadata": {},
   "outputs": [],
   "source": [
    "import numpy as np \n",
    "import matplotlib.pyplot as plt\n",
    "import pandas as pd "
   ]
  },
  {
   "cell_type": "markdown",
   "metadata": {},
   "source": [
    "## Current Density - Overpotential Plot"
   ]
  },
  {
   "cell_type": "code",
   "execution_count": 28,
   "metadata": {},
   "outputs": [
    {
     "data": {
      "text/plain": [
       "array([-1.47791628e+09, -8.78390767e+08, -5.22066337e+08, -3.10287028e+08,\n",
       "       -1.84417253e+08, -1.09607299e+08, -6.51444477e+07, -3.87182157e+07,\n",
       "       -2.30119417e+07, -1.36770109e+07, -8.12885023e+06, -4.83133387e+06,\n",
       "       -2.87147461e+06, -1.70664388e+06, -1.01433366e+06, -6.02863189e+05,\n",
       "       -3.58308157e+05, -2.12958326e+05, -1.26570517e+05, -7.52264352e+04,\n",
       "       -4.47103851e+04, -2.65733520e+04, -1.57937140e+04, -9.38690014e+03,\n",
       "       -5.57904837e+03, -3.31587428e+03, -1.97077019e+03, -1.17131556e+03,\n",
       "       -6.96164450e+02, -4.13761208e+02, -2.45916517e+02, -1.46159022e+02,\n",
       "       -8.68687471e+01, -5.16299241e+01, -3.06859389e+01, -1.82380056e+01,\n",
       "       -1.08396503e+01, -6.44248183e+00, -3.82905083e+00, -2.27577363e+00,\n",
       "       -1.35259254e+00, -8.03905348e-01, -4.77796371e-01, -2.83975436e-01,\n",
       "       -1.68779115e-01, -1.00312865e-01, -5.96203556e-02, -3.54350044e-02,\n",
       "       -2.10605845e-02, -1.25172334e-02, -7.43954333e-03, -4.42164841e-03,\n",
       "       -2.62798048e-03, -1.56192460e-03, -9.28320612e-04, -5.51741844e-04,\n",
       "       -3.27924490e-04, -1.94899973e-04, -1.15837642e-04, -6.88474149e-05,\n",
       "       -4.09190523e-05, -2.43199958e-05, -1.44544451e-05, -8.59091364e-06,\n",
       "       -5.10595852e-06, -3.03469613e-06, -1.80365363e-06, -1.07199083e-06,\n",
       "       -6.37131384e-07, -3.78675255e-07, -2.25063390e-07, -1.33765090e-07,\n",
       "       -7.95024868e-08, -4.72518310e-08, -2.80838452e-08, -1.66914667e-08,\n",
       "       -9.92047413e-09, -5.89617490e-09, -3.50435655e-09, -2.08279351e-09,\n",
       "       -1.23789596e-09, -7.35736113e-10, -4.37280391e-10, -2.59895004e-10,\n",
       "       -1.54467053e-10, -9.18065757e-11, -5.45646932e-11, -3.24302015e-11,\n",
       "       -1.92746977e-11, -1.14558022e-11, -6.80868800e-12, -4.04670329e-12,\n",
       "       -2.40513408e-12, -1.42947716e-12, -8.49601263e-13, -5.04955466e-13,\n",
       "       -3.00117284e-13, -1.78372926e-13, -1.06014889e-13, -6.30093201e-14])"
      ]
     },
     "execution_count": 28,
     "metadata": {},
     "output_type": "execute_result"
    }
   ],
   "source": [
    "#Constants\n",
    "j0 = 0.00965\n",
    "alphaa = 0.3\n",
    "alphac = 0.7\n",
    "R = 8.314\n",
    "T = 298 \n",
    "F = 96485\n",
    "EEq = 0.771\n",
    "z = 1\n",
    "jmax = 600\n",
    "\n",
    "#Finding Voltage Boundaries\n",
    "etamax  = (R*T)/(alphaa*z*F)*np.log(jmax/j0)\n",
    "Eta = np.linspace(-(etamax), etamax, 100)\n",
    "\n",
    "#Equation\n",
    "CurrentDensitya = j0 * np.exp(alphaa*z*F*Eta/(R*T))\n",
    "CurrentDensityc = (-j0 * np.exp(-alphac*z*F*Eta/(R*T)))\n",
    "CurrentDensityc\n"
   ]
  },
  {
   "cell_type": "code",
   "execution_count": 37,
   "metadata": {},
   "outputs": [
    {
     "data": {
      "text/plain": [
       "[<matplotlib.lines.Line2D at 0x7fe3a8945fd0>]"
      ]
     },
     "execution_count": 37,
     "metadata": {},
     "output_type": "execute_result"
    },
    {
     "data": {
      "image/png": "[encoded data removed]",
      "text/plain": [
       "<Figure size 360x504 with 1 Axes>"
      ]
     },
     "metadata": {
      "needs_background": "light"
     },
     "output_type": "display_data"
    }
   ],
   "source": [
    "#Plotting for Current Density-Overpotential\n",
    "\n",
    "fig = plt.figure(figsize = (5,7))\n",
    "\n",
    "#Axis limits\n",
    "plt.xlim(min(Eta),max(Eta))\n",
    "plt.ylim(-600,600)\n",
    "\n",
    "plt.plot(Eta,CurrentDensitya)\n",
    "plt.plot(Eta,CurrentDensityc)\n",
    "#plt.plot(Eta,CurrentDensitya+CurrentDensityc)\n",
    "\n"
   ]
  },
  {
   "cell_type": "markdown",
   "metadata": {},
   "source": []
  }
 ],
 "metadata": {
  "language_info": {
   "name": "python"
  },
  "orig_nbformat": 4
 },
 "nbformat": 4,
 "nbformat_minor": 2
}
