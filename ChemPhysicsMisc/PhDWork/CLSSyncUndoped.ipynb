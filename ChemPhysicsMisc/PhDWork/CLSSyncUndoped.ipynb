{
 "cells": [
  {
   "cell_type": "code",
   "execution_count": 7,
   "metadata": {},
   "outputs": [],
   "source": [
    "import numpy as np \n",
    "import matplotlib\n",
    "import matplotlib.pyplot as plt\n",
    "import pandas as pd \n",
    "import datetime"
   ]
  },
  {
   "cell_type": "code",
   "execution_count": 12,
   "metadata": {},
   "outputs": [],
   "source": [
    "NdCell1AMmass = 0.01544\n",
    "NdCell2AMmass = 0.00928\n",
    "\n",
    "#Part 1 \n",
    "df = pd.read_csv(r'/Users/Michael/Desktop/GitHub/ChemPhysicsMisc/ChemPhysicsMisc/PhDWork/Data/cell1-insitu-Nb-edge-Nd-TNO_C01.txt', delimiter = \"\\t\", header = 0, encoding= 'unicode_escape')\n",
    "df.columns = [\"Time (s)\", \"Voltage (V)\", \"Current (I)\"]\n",
    "df = df.fillna(0)\n",
    "df['Time'] = pd.to_timedelta(df['Time (s)'], unit=\"s\")\n",
    "df['TOD'] = pd.Timedelta(\"0 days,  9 hours 9 min\")\n",
    "df['TOD2'] = df['TOD'] + df['Time']\n",
    "df['Capacity'] = abs(df['Time (s)'] * df['Current (I)'])/ (3600 * NdCell1AMmass) \n",
    "dfSimplified = df[['TOD2', 'Capacity']].copy()\n",
    "dfSimplified.head()\n",
    "\n",
    "#Part10\n",
    "df10 = pd.read_csv(r'/Users/Michael/Desktop/GitHub/ChemPhysicsMisc/ChemPhysicsMisc/PhDWork/Data/cell1-insitu-Nb-edge-Nd-TNO-part10_C01.txt', delimiter = \"\\t\", header = 0, encoding= 'unicode_escape')\n",
    "df10.columns = [\"Time (s)\", \"Voltage (V)\", \"Current (I)\"]\n",
    "df10 = df10.fillna(0)\n",
    "df10['Time'] = pd.to_timedelta(df10['Time (s)'], unit=\"s\")\n",
    "df10['TOD'] = pd.Timedelta(\"0 days,  19 hours 28 min\")\n",
    "df10['TOD2'] = df10['TOD'] + df10['Time']\n",
    "df10['Capacity'] = abs(df10['Time (s)'] * df10['Current (I)'])/ (3600 * NdCell2AMmass) \n",
    "df10['Capacity'] += 31\n",
    "dfSimplified10 = df10[[\"Voltage (V)\", 'TOD2', 'Capacity']].copy()\n",
    "dfSimplified10.head()\n",
    "\n",
    "#Part10\n",
    "df11 = pd.read_csv(r'/Users/Michael/Desktop/GitHub/ChemPhysicsMisc/ChemPhysicsMisc/PhDWork/Data/cell1-insitu-Nb-edge-Nd-TNO-part11_C01.txt', delimiter = \"\\t\", header = 0, encoding= 'unicode_escape')\n",
    "df11.columns = [\"Time (s)\", \"Voltage (V)\", \"Current (I)\"]\n",
    "df11 = df11.fillna(0)\n",
    "df11['Time'] = pd.to_timedelta(df11['Time (s)'], unit=\"s\")\n",
    "df11['TOD'] = pd.Timedelta(\"1 days,  5 hours 28 min\")\n",
    "df11['TOD2'] = df11['TOD'] + df11['Time']\n",
    "df11['Capacity'] = abs(df11['Time (s)'] * df11['Current (I)'])/ (3600 * NdCell2AMmass) \n",
    "df11['Capacity'] += 172\n",
    "dfSimplified11 = df11[[\"Voltage (V)\", 'TOD2', 'Capacity']].copy()\n",
    "\n",
    "\n",
    "frames = [dfSimplified10, dfSimplified11]\n",
    "dfNd = pd.concat(frames)\n"
   ]
  },
  {
   "cell_type": "code",
   "execution_count": 22,
   "metadata": {},
   "outputs": [
    {
     "data": {
      "text/plain": [
       "(0.0, 3.0)"
      ]
     },
     "execution_count": 22,
     "metadata": {},
     "output_type": "execute_result"
    },
    {
     "data": {
      "image/png": "[encoded data removed]",
      "text/plain": [
       "<Figure size 432x288 with 1 Axes>"
      ]
     },
     "metadata": {
      "needs_background": "light"
     },
     "output_type": "display_data"
    }
   ],
   "source": [
    "x = dfNd['Capacity']\n",
    "y = dfNd['Voltage (V)']\n",
    "plt.scatter(x, y)\n",
    "\n",
    "plt.xlim(0, 300)\n",
    "plt.ylim(0,3)"
   ]
  },
  {
   "cell_type": "code",
   "execution_count": null,
   "metadata": {},
   "outputs": [],
   "source": []
  }
 ],
 "metadata": {
  "kernelspec": {
   "display_name": "Python 3",
   "language": "python",
   "name": "python3"
  },
  "language_info": {
   "codemirror_mode": {
    "name": "ipython",
    "version": 3
   },
   "file_extension": ".py",
   "mimetype": "text/x-python",
   "name": "python",
   "nbconvert_exporter": "python",
   "pygments_lexer": "ipython3",
   "version": "3.9.7"
  }
 },
 "nbformat": 4,
 "nbformat_minor": 2
}
