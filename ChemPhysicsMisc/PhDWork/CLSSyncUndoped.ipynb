{
 "cells": [
  {
   "cell_type": "code",
   "execution_count": 17,
   "metadata": {},
   "outputs": [],
   "source": [
    "import numpy as np \n",
    "import matplotlib\n",
    "import matplotlib.pyplot as plt\n",
    "import pandas as pd \n",
    "import datetime"
   ]
  },
  {
   "cell_type": "code",
   "execution_count": 18,
   "metadata": {},
   "outputs": [],
   "source": [
    "NdCell1AMmass = 0.00768\n",
    "NdCell2AMmass = 0.00776\n",
    "\n",
    "#Part 1 \n",
    "df = pd.read_csv(r'/Users/Michael/Desktop/GitHub/ChemPhysicsMisc/ChemPhysicsMisc/PhDWork/Data/cell4-insitu-Nb-edge-TNO_C01.txt', delimiter = \"\\t\", header = 0, encoding= 'unicode_escape')\n",
    "df.columns = [\"Time (s)\", \"Voltage (V)\", \"Current (I)\"]\n",
    "df = df.fillna(0)\n",
    "df['Time'] = pd.to_timedelta(df['Time (s)'], unit=\"s\")\n",
    "df['TOD'] = pd.Timedelta(\"1 days,  4 hours 20 min\")\n",
    "df['TOD2'] = df['TOD'] + df['Time']\n",
    "df['Capacity'] = abs(df['Time (s)'] * df['Current (I)'])/ (3600 * NdCell2AMmass) \n",
    "dfSimplified = df[['TOD2', 'Capacity']].copy()\n",
    "\n",
    "# #Part5\n",
    "df5 = pd.read_csv(r'/Users/Michael/Desktop/GitHub/ChemPhysicsMisc/ChemPhysicsMisc/PhDWork/Data/cell4-insitu-Nb-edge-TNO_Part5_C01.txt', delimiter = \"\\t\", header = 0, encoding= 'unicode_escape')\n",
    "df5.columns = [\"Time (s)\", \"Voltage (V)\", \"Current (I)\"]\n",
    "df5 = df5.fillna(0)\n",
    "df5['Time'] = pd.to_timedelta(df5['Time (s)'], unit=\"s\")\n",
    "df5['TOD'] = pd.Timedelta(\"1 days,  16 hours 39 min\")\n",
    "df5['TOD2'] = df5['TOD'] + df5['Time']\n",
    "df5['Capacity'] = abs(df5['Time (s)'] * df5['Current (I)'])/ (3600 * NdCell2AMmass) \n",
    "df5['Capacity'] += 14\n",
    "dfSimplified5 = df5[[\"Voltage (V)\", 'TOD2', 'Capacity']].copy()\n",
    "\n",
    "#Part6\n",
    "df6 = pd.read_csv(r'/Users/Michael/Desktop/GitHub/ChemPhysicsMisc/ChemPhysicsMisc/PhDWork/Data/cell4-insitu-Nb-edge-TNO_Part6_C01.txt', delimiter = \"\\t\", header = 0, encoding= 'unicode_escape')\n",
    "df6.columns = [\"Time (s)\", \"Voltage (V)\", \"Current (I)\"]\n",
    "df6 = df6.fillna(0)\n",
    "df6['Time'] = pd.to_timedelta(df6['Time (s)'], unit=\"s\")\n",
    "df6['TOD'] = pd.Timedelta(\"1 days,  20 hours 04 min\")\n",
    "df6['TOD2'] = df6['TOD'] + df6['Time']\n",
    "df6['Capacity'] = abs(df6['Time (s)'] * df6['Current (I)'])/ (3600 * NdCell2AMmass) \n",
    "df6['Capacity'] += 83\n",
    "dfSimplified6 = df6[[\"Voltage (V)\", 'TOD2', 'Capacity']].copy()\n",
    "\n",
    "\n",
    "frames = [dfSimplified, dfSimplified5, dfSimplified6]\n",
    "dfTNO = pd.concat(frames)"
   ]
  },
  {
   "cell_type": "code",
   "execution_count": 21,
   "metadata": {},
   "outputs": [
    {
     "data": {
      "text/plain": [
       "(0.0, 3.0)"
      ]
     },
     "execution_count": 21,
     "metadata": {},
     "output_type": "execute_result"
    },
    {
     "data": {
      "image/png": "[encoded data removed]",
      "text/plain": [
       "<Figure size 432x288 with 1 Axes>"
      ]
     },
     "metadata": {
      "needs_background": "light"
     },
     "output_type": "display_data"
    }
   ],
   "source": [
    "x = dfTNO['Capacity']\n",
    "y = dfTNO['Voltage (V)']\n",
    "plt.scatter(x, y)\n",
    "\n",
    "plt.xlim(0, 300)\n",
    "plt.ylim(0,3)"
   ]
  },
  {
   "cell_type": "code",
   "execution_count": null,
   "metadata": {},
   "outputs": [],
   "source": []
  }
 ],
 "metadata": {
  "kernelspec": {
   "display_name": "Python 3",
   "language": "python",
   "name": "python3"
  },
  "language_info": {
   "codemirror_mode": {
    "name": "ipython",
    "version": 3
   },
   "file_extension": ".py",
   "mimetype": "text/x-python",
   "name": "python",
   "nbconvert_exporter": "python",
   "pygments_lexer": "ipython3",
   "version": "3.9.7"
  }
 },
 "nbformat": 4,
 "nbformat_minor": 2
}
